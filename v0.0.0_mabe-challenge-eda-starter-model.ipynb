{
 "cells": [
  {
   "cell_type": "markdown",
   "metadata": {},
   "source": [
    "The following code is a work in progress. It has incorporated a variety of methods to solve this problem along with various additions. The goal is to combine multiple methodologies to create a hybrid / ensemble methodology. To this end, it is worth noting the following references:\n",
    "\n",
    "https://www.kaggle.com/code/ambrosm/mabe-nearest-neighbors-the-original\n",
    "https://www.kaggle.com/code/snnguynvnk19hl/mabe-challenge-ml\n",
    "https://www.kaggle.com/code/xbar19/mabe-catboost-baseline\n",
    "https://www.kaggle.com/code/yusuketogashi/mabe-launchpad-start-simple-localcv"
   ]
  },
  {
   "cell_type": "code",
   "execution_count": 1,
   "metadata": {},
   "outputs": [
    {
     "name": "stdout",
     "output_type": "stream",
     "text": [
      "📁 Created visualization directory: figures\n",
      "\n",
      "================================================================================\n",
      "               🐭 MABe CHALLENGE - ENHANCED VISUALIZATION VERSION 🐭\n",
      "================================================================================\n",
      "📅 Start Time: 2025-09-25 23:14:12\n",
      "🔧 Mode: SUBMIT\n",
      "📊 Visualizations: ENABLED\n",
      "💾 Save Plots: YES\n",
      "================================================================================\n",
      "\n"
     ]
    }
   ],
   "source": [
    "\"\"\"\n",
    "MABe Challenge - Enhanced with Comprehensive Visualizations (Fault-Tolerant)\n",
    "============================================================================\n",
    "Complete implementation with detailed analytics and robust error handling\n",
    "\"\"\"\n",
    "\n",
    "import pandas as pd\n",
    "import numpy as np\n",
    "import matplotlib.pyplot as plt\n",
    "import seaborn as sns\n",
    "from tqdm import tqdm\n",
    "import itertools\n",
    "import warnings\n",
    "import json\n",
    "import os\n",
    "import gc\n",
    "from collections import defaultdict, Counter\n",
    "from datetime import datetime\n",
    "import time\n",
    "\n",
    "# Import visualization libraries with error handling\n",
    "try:\n",
    "    import plotly.graph_objects as go\n",
    "    import plotly.express as px\n",
    "    from plotly.subplots import make_subplots\n",
    "    PLOTLY_AVAILABLE = True\n",
    "except ImportError:\n",
    "    PLOTLY_AVAILABLE = False\n",
    "    print(\"⚠️ Plotly not available - interactive visualizations disabled\")\n",
    "\n",
    "import matplotlib.gridspec as gridspec\n",
    "from matplotlib.patches import Rectangle\n",
    "import matplotlib.patches as mpatches\n",
    "\n",
    "from sklearn.base import ClassifierMixin, BaseEstimator, clone\n",
    "from sklearn.model_selection import cross_val_predict, GroupKFold\n",
    "from sklearn.pipeline import make_pipeline\n",
    "from sklearn.impute import SimpleImputer\n",
    "from sklearn.preprocessing import StandardScaler\n",
    "from sklearn.neighbors import KNeighborsClassifier\n",
    "from sklearn.ensemble import RandomForestClassifier, GradientBoostingClassifier\n",
    "from sklearn.metrics import f1_score, confusion_matrix, precision_recall_curve\n",
    "from sklearn.decomposition import PCA\n",
    "from sklearn.manifold import TSNE\n",
    "import polars as pl\n",
    "\n",
    "warnings.filterwarnings('ignore')\n",
    "\n",
    "# Enhanced visualization settings\n",
    "plt.style.use('seaborn-v0_8-darkgrid')\n",
    "sns.set_palette(\"husl\")\n",
    "plt.rcParams['figure.figsize'] = (14, 8)\n",
    "plt.rcParams['font.size'] = 11\n",
    "plt.rcParams['axes.titlesize'] = 13\n",
    "plt.rcParams['axes.labelsize'] = 11\n",
    "plt.rcParams['xtick.labelsize'] = 10\n",
    "plt.rcParams['ytick.labelsize'] = 10\n",
    "plt.rcParams['legend.fontsize'] = 10\n",
    "plt.rcParams['figure.titlesize'] = 15\n",
    "\n",
    "# Configuration\n",
    "validate_or_submit = 'submit'\n",
    "verbose = True\n",
    "create_visualizations = True\n",
    "save_plots = True\n",
    "plot_dir = 'figures'\n",
    "\n",
    "if save_plots:\n",
    "    os.makedirs(plot_dir, exist_ok=True)\n",
    "    print(f\"📁 Created visualization directory: {plot_dir}\")\n",
    "\n",
    "# Performance tracking\n",
    "start_time = time.time()\n",
    "performance_metrics = {\n",
    "    'configurations_processed': 0,\n",
    "    'single_mouse_batches': 0,\n",
    "    'pair_batches': 0,\n",
    "    'features_extracted': 0,\n",
    "    'predictions_made': 0,\n",
    "    'models_trained': 0,\n",
    "    'actions_processed': 0\n",
    "}\n",
    "\n",
    "print(\"\\n\" + \"=\"*80)\n",
    "print(\" \"*15 + \"🐭 MABe CHALLENGE - ENHANCED VISUALIZATION VERSION 🐭\")\n",
    "print(\"=\"*80)\n",
    "print(f\"📅 Start Time: {datetime.now().strftime('%Y-%m-%d %H:%M:%S')}\")\n",
    "print(f\"🔧 Mode: {validate_or_submit.upper()}\")\n",
    "print(f\"📊 Visualizations: {'ENABLED' if create_visualizations else 'DISABLED'}\")\n",
    "print(f\"💾 Save Plots: {'YES' if save_plots else 'NO'}\")\n",
    "print(\"=\"*80 + \"\\n\")"
   ]
  },
  {
   "cell_type": "code",
   "execution_count": 2,
   "metadata": {},
   "outputs": [],
   "source": [
    "def safe_json_loads(x):\n",
    "    \"\"\"Safely load JSON, returning empty list for NaN values\"\"\"\n",
    "    if pd.isna(x):\n",
    "        return []\n",
    "    try:\n",
    "        return json.loads(x)\n",
    "    except:\n",
    "        return []\n",
    "\n",
    "def create_data_overview_plots(train_df, test_df):\n",
    "    \"\"\"Create comprehensive data overview visualizations with error handling\"\"\"\n",
    "    try:\n",
    "        print(\"\\n\" + \"=\"*60)\n",
    "        print(\"📊 CREATING DATA OVERVIEW VISUALIZATIONS\")\n",
    "        print(\"=\"*60)\n",
    "        \n",
    "        fig = plt.figure(figsize=(20, 14))\n",
    "        gs = gridspec.GridSpec(4, 4, hspace=0.3, wspace=0.3)\n",
    "        \n",
    "        # 1. Videos per laboratory\n",
    "        try:\n",
    "            ax1 = fig.add_subplot(gs[0, :2])\n",
    "            lab_counts = train_df['lab_id'].value_counts().head(20)\n",
    "            colors = sns.color_palette(\"husl\", len(lab_counts))\n",
    "            bars = ax1.bar(range(len(lab_counts)), lab_counts.values, color=colors, edgecolor='black', linewidth=0.5)\n",
    "            ax1.set_xticks(range(len(lab_counts)))\n",
    "            ax1.set_xticklabels(lab_counts.index, rotation=45, ha='right', fontsize=9)\n",
    "            ax1.set_title('Videos per Laboratory (Top 20)', fontsize=12, fontweight='bold')\n",
    "            ax1.set_ylabel('Number of Videos')\n",
    "            ax1.grid(True, alpha=0.3, axis='y')\n",
    "            \n",
    "            for bar in bars:\n",
    "                height = bar.get_height()\n",
    "                ax1.text(bar.get_x() + bar.get_width()/2., height + 1,\n",
    "                        f'{int(height)}', ha='center', va='bottom', fontsize=8)\n",
    "        except Exception as e:\n",
    "            print(f\"    ⚠️ Lab counts plot failed: {e}\")\n",
    "        \n",
    "        # 2. Mice distribution\n",
    "        try:\n",
    "            ax2 = fig.add_subplot(gs[0, 2])\n",
    "            mice_dist = train_df['n_mice'].value_counts().sort_index()\n",
    "            wedges, texts, autotexts = ax2.pie(mice_dist.values, \n",
    "                                                labels=[f'{i} mice' for i in mice_dist.index],\n",
    "                                                autopct='%1.1f%%',\n",
    "                                                startangle=90,\n",
    "                                                colors=plt.cm.Set3.colors)\n",
    "            ax2.set_title('Mice per Video Distribution', fontsize=12, fontweight='bold')\n",
    "        except Exception as e:\n",
    "            print(f\"    ⚠️ Mice distribution plot failed: {e}\")\n",
    "        \n",
    "        # 3. Body parts configuration\n",
    "        try:\n",
    "            ax3 = fig.add_subplot(gs[0, 3])\n",
    "            body_parts_count = train_df['body_parts_tracked'].apply(safe_json_loads).apply(len)\n",
    "            ax3.hist(body_parts_count, bins=20, color='skyblue', edgecolor='black', alpha=0.7)\n",
    "            ax3.set_xlabel('Number of Body Parts')\n",
    "            ax3.set_ylabel('Frequency')\n",
    "            ax3.set_title('Body Parts per Configuration', fontsize=12, fontweight='bold')\n",
    "            if len(body_parts_count) > 0:\n",
    "                ax3.axvline(body_parts_count.mean(), color='red', linestyle='--', \n",
    "                           label=f'Mean: {body_parts_count.mean():.1f}')\n",
    "                ax3.legend()\n",
    "            ax3.grid(True, alpha=0.3)\n",
    "        except Exception as e:\n",
    "            print(f\"    ⚠️ Body parts plot failed: {e}\")\n",
    "        \n",
    "        # 4. Behavior types distribution\n",
    "        try:\n",
    "            ax4 = fig.add_subplot(gs[1, :2])\n",
    "            behaviors_count = train_df['behaviors_labeled'].apply(safe_json_loads).apply(len)\n",
    "            valid_behaviors = behaviors_count[behaviors_count > 0]\n",
    "            \n",
    "            if len(valid_behaviors) > 0:\n",
    "                ax4.hist(valid_behaviors, bins=30, color='coral', edgecolor='black', alpha=0.7)\n",
    "                ax4.set_xlabel('Number of Behavior Types')\n",
    "                ax4.set_ylabel('Frequency')\n",
    "                ax4.set_title('Behavior Types per Video', fontsize=12, fontweight='bold')\n",
    "                ax4.axvline(valid_behaviors.mean(), color='blue', linestyle='--',\n",
    "                           label=f'Mean: {valid_behaviors.mean():.1f}')\n",
    "                ax4.axvline(valid_behaviors.median(), color='green', linestyle='--',\n",
    "                           label=f'Median: {valid_behaviors.median():.1f}')\n",
    "                ax4.legend()\n",
    "                ax4.grid(True, alpha=0.3)\n",
    "            else:\n",
    "                ax4.text(0.5, 0.5, 'No valid behavior data', \n",
    "                        transform=ax4.transAxes, ha='center', va='center')\n",
    "        except Exception as e:\n",
    "            print(f\"    ⚠️ Behavior distribution plot failed: {e}\")\n",
    "        \n",
    "        # 5. Top behavior actions\n",
    "        try:\n",
    "            ax5 = fig.add_subplot(gs[1, 2:])\n",
    "            all_behaviors = []\n",
    "            for behaviors_str in train_df['behaviors_labeled'].dropna():\n",
    "                try:\n",
    "                    behaviors = json.loads(behaviors_str)\n",
    "                    for b in behaviors:\n",
    "                        parts = b.replace(\"'\", \"\").split(',')\n",
    "                        if len(parts) == 3:\n",
    "                            all_behaviors.append(parts[2])\n",
    "                except:\n",
    "                    continue\n",
    "            \n",
    "            if all_behaviors:\n",
    "                behavior_counts = Counter(all_behaviors)\n",
    "                top_behaviors = dict(behavior_counts.most_common(15))\n",
    "                \n",
    "                ax5.barh(range(len(top_behaviors)), list(top_behaviors.values()), \n",
    "                        color='steelblue', edgecolor='black', linewidth=0.5)\n",
    "                ax5.set_yticks(range(len(top_behaviors)))\n",
    "                ax5.set_yticklabels(list(top_behaviors.keys()), fontsize=9)\n",
    "                ax5.set_xlabel('Frequency')\n",
    "                ax5.set_title('Top 15 Behavior Actions', fontsize=12, fontweight='bold')\n",
    "                ax5.grid(True, alpha=0.3, axis='x')\n",
    "            else:\n",
    "                ax5.text(0.5, 0.5, 'No behavior data available', \n",
    "                        transform=ax5.transAxes, ha='center', va='center')\n",
    "        except Exception as e:\n",
    "            print(f\"    ⚠️ Behavior actions plot failed: {e}\")\n",
    "            behavior_counts = {}\n",
    "            top_behaviors = {}\n",
    "        \n",
    "        # 6. Lab-Behavior heatmap\n",
    "        try:\n",
    "            ax6 = fig.add_subplot(gs[2, :])\n",
    "            if all_behaviors and len(top_behaviors) > 0:\n",
    "                top_labs = lab_counts.head(10).index\n",
    "                lab_behavior_matrix = []\n",
    "                \n",
    "                for lab in top_labs:\n",
    "                    lab_data = train_df[train_df['lab_id'] == lab]\n",
    "                    lab_behaviors = []\n",
    "                    for behaviors_str in lab_data['behaviors_labeled'].dropna():\n",
    "                        try:\n",
    "                            behaviors = json.loads(behaviors_str)\n",
    "                            lab_behaviors.extend(behaviors)\n",
    "                        except:\n",
    "                            continue\n",
    "                    \n",
    "                    lab_behavior_counts = []\n",
    "                    for behavior in list(top_behaviors.keys())[:10]:\n",
    "                        count = sum(1 for b in lab_behaviors if behavior in b)\n",
    "                        lab_behavior_counts.append(count)\n",
    "                    lab_behavior_matrix.append(lab_behavior_counts)\n",
    "                \n",
    "                if lab_behavior_matrix:\n",
    "                    im = ax6.imshow(lab_behavior_matrix, aspect='auto', cmap='YlOrRd')\n",
    "                    ax6.set_xticks(range(min(10, len(top_behaviors))))\n",
    "                    ax6.set_xticklabels(list(top_behaviors.keys())[:10], rotation=45, ha='right', fontsize=9)\n",
    "                    ax6.set_yticks(range(len(top_labs)))\n",
    "                    ax6.set_yticklabels(top_labs, fontsize=9)\n",
    "                    ax6.set_title('Lab-Behavior Frequency Heatmap', fontsize=12, fontweight='bold')\n",
    "                    plt.colorbar(im, ax=ax6, label='Frequency')\n",
    "                else:\n",
    "                    ax6.axis('off')\n",
    "                    ax6.text(0.5, 0.5, 'Insufficient data for heatmap', \n",
    "                            transform=ax6.transAxes, ha='center', va='center')\n",
    "            else:\n",
    "                ax6.axis('off')\n",
    "                ax6.text(0.5, 0.5, 'Insufficient data for heatmap', \n",
    "                        transform=ax6.transAxes, ha='center', va='center')\n",
    "        except Exception as e:\n",
    "            print(f\"    ⚠️ Heatmap failed: {e}\")\n",
    "        \n",
    "        # 7. Statistics summary\n",
    "        try:\n",
    "            ax7 = fig.add_subplot(gs[3, :])\n",
    "            ax7.axis('off')\n",
    "            \n",
    "            n_missing_behaviors = train_df['behaviors_labeled'].isna().sum()\n",
    "            \n",
    "            # Compute statistics safely\n",
    "            avg_behaviors = valid_behaviors.mean() if 'valid_behaviors' in locals() and len(valid_behaviors) > 0 else 0\n",
    "            max_behaviors = behaviors_count.max() if 'behaviors_count' in locals() and len(behaviors_count) > 0 else 0\n",
    "            min_body_parts = body_parts_count.min() if 'body_parts_count' in locals() and len(body_parts_count) > 0 else 0\n",
    "            max_body_parts = body_parts_count.max() if 'body_parts_count' in locals() and len(body_parts_count) > 0 else 0\n",
    "            mean_body_parts = body_parts_count.mean() if 'body_parts_count' in locals() and len(body_parts_count) > 0 else 0\n",
    "            \n",
    "            stats_text = f\"\"\"\n",
    "    DATASET STATISTICS SUMMARY\n",
    "    {'='*70}\n",
    "    \n",
    "    TRAINING DATA:\n",
    "    • Total Videos: {len(train_df):,}\n",
    "    • Videos with Missing Behaviors: {n_missing_behaviors} ({100*n_missing_behaviors/len(train_df):.1f}%)\n",
    "    • Unique Laboratories: {train_df['lab_id'].nunique()}\n",
    "    • Average Mice per Video: {train_df['n_mice'].mean():.2f}\n",
    "    • Total Unique Body Part Configurations: {train_df['body_parts_tracked'].nunique()}\n",
    "    \n",
    "    TEST DATA:\n",
    "    • Total Videos: {len(test_df):,}\n",
    "    • Unique Laboratories: {test_df['lab_id'].nunique()}\n",
    "    \n",
    "    BEHAVIOR ANALYSIS:\n",
    "    • Total Unique Behaviors: {len(behavior_counts) if 'behavior_counts' in locals() else 0}\n",
    "    • Most Common Behavior: {list(top_behaviors.keys())[0] if 'top_behaviors' in locals() and top_behaviors else 'N/A'} \n",
    "    • Average Behaviors per Video: {avg_behaviors:.1f}\n",
    "    • Max Behaviors in Single Video: {max_behaviors}\n",
    "    \n",
    "    BODY PARTS:\n",
    "    • Min Body Parts: {min_body_parts}\n",
    "    • Max Body Parts: {max_body_parts}\n",
    "    • Mean Body Parts: {mean_body_parts:.1f}\n",
    "    \"\"\"\n",
    "            \n",
    "            ax7.text(0.05, 0.95, stats_text, transform=ax7.transAxes, fontsize=10,\n",
    "                    verticalalignment='top', fontfamily='monospace',\n",
    "                    bbox=dict(boxstyle='round', facecolor='lightgray', alpha=0.3))\n",
    "        except Exception as e:\n",
    "            print(f\"    ⚠️ Statistics summary failed: {e}\")\n",
    "        \n",
    "        plt.suptitle('MABe Dataset Comprehensive Overview', fontsize=16, fontweight='bold')\n",
    "        \n",
    "        if save_plots:\n",
    "            try:\n",
    "                plt.savefig(os.path.join(plot_dir, 'data_overview.png'), dpi=100, bbox_inches='tight')\n",
    "                print(\"    💾 Saved: data_overview.png\")\n",
    "            except Exception as e:\n",
    "                print(f\"    ⚠️ Failed to save plot: {e}\")\n",
    "        \n",
    "        plt.show()\n",
    "        \n",
    "        return behavior_counts if 'behavior_counts' in locals() else {}\n",
    "    \n",
    "    except Exception as e:\n",
    "        print(f\"❌ Data overview visualization failed: {e}\")\n",
    "        return {}\n",
    "\n",
    "def create_feature_analysis_plots(features_df, feature_type='single', section_num=1):\n",
    "    \"\"\"Create feature analysis with error handling\"\"\"\n",
    "    try:\n",
    "        if features_df is None or features_df.empty:\n",
    "            return\n",
    "            \n",
    "        print(f\"\\n📈 Creating feature analysis for {feature_type} mouse...\")\n",
    "        \n",
    "        numeric_cols = [col for col in features_df.columns if features_df[col].dtype in [np.float64, np.int64]]\n",
    "        feature_cols = [col for col in numeric_cols if col not in ['video_frame', 'start_frame', 'stop_frame']]\n",
    "        \n",
    "        if len(feature_cols) == 0:\n",
    "            print(\"    ⚠️ No numeric features to visualize\")\n",
    "            return\n",
    "        \n",
    "        if len(feature_cols) > 20:\n",
    "            feature_cols = list(np.random.choice(feature_cols, 20, replace=False))\n",
    "        \n",
    "        # Feature distributions\n",
    "        fig = plt.figure(figsize=(18, 12))\n",
    "        n_features = min(12, len(feature_cols))\n",
    "        \n",
    "        for i in range(n_features):\n",
    "            try:\n",
    "                ax = plt.subplot(4, 3, i+1)\n",
    "                data = features_df[feature_cols[i]].dropna()\n",
    "                if len(data) > 0:\n",
    "                    ax.hist(data, bins=30, color='lightblue', edgecolor='black', alpha=0.7)\n",
    "                    ax.set_title(feature_cols[i][:20], fontsize=10)\n",
    "                    ax.set_xlabel('Value', fontsize=9)\n",
    "                    ax.set_ylabel('Frequency', fontsize=9)\n",
    "                    \n",
    "                    mean_val = data.mean()\n",
    "                    median_val = data.median()\n",
    "                    ax.axvline(mean_val, color='red', linestyle='--', alpha=0.5, linewidth=1)\n",
    "                    ax.axvline(median_val, color='green', linestyle='--', alpha=0.5, linewidth=1)\n",
    "                    \n",
    "                    stats_text = f'μ={mean_val:.2f}\\nM={median_val:.2f}'\n",
    "                    ax.text(0.95, 0.95, stats_text, transform=ax.transAxes,\n",
    "                           fontsize=8, verticalalignment='top', horizontalalignment='right',\n",
    "                           bbox=dict(boxstyle='round', facecolor='white', alpha=0.8))\n",
    "            except Exception as e:\n",
    "                print(f\"    ⚠️ Feature {i} plot failed: {e}\")\n",
    "        \n",
    "        plt.suptitle(f'Feature Distributions - {feature_type.capitalize()} Mouse (Config {section_num})', \n",
    "                    fontsize=14, fontweight='bold')\n",
    "        plt.tight_layout()\n",
    "        \n",
    "        if save_plots:\n",
    "            try:\n",
    "                plt.savefig(os.path.join(plot_dir, f'feature_dist_{feature_type}_{section_num}.png'), \n",
    "                           dpi=100, bbox_inches='tight')\n",
    "            except:\n",
    "                pass\n",
    "        plt.show()\n",
    "        \n",
    "        # Correlation heatmap\n",
    "        if len(feature_cols) > 3:\n",
    "            try:\n",
    "                print(\"    📊 Creating correlation heatmap...\")\n",
    "                fig, ax = plt.subplots(figsize=(12, 10))\n",
    "                \n",
    "                corr_matrix = features_df[feature_cols].corr()\n",
    "                mask = np.triu(np.ones_like(corr_matrix), k=1)\n",
    "                \n",
    "                sns.heatmap(corr_matrix, mask=mask, cmap='coolwarm', center=0,\n",
    "                           square=True, linewidths=0.5, cbar_kws={\"shrink\": 0.8},\n",
    "                           ax=ax, vmin=-1, vmax=1)\n",
    "                \n",
    "                ax.set_title(f'Feature Correlation Matrix - {feature_type.capitalize()} Mouse', \n",
    "                            fontsize=14, fontweight='bold')\n",
    "                plt.tight_layout()\n",
    "                \n",
    "                if save_plots:\n",
    "                    try:\n",
    "                        plt.savefig(os.path.join(plot_dir, f'correlation_{feature_type}_{section_num}.png'), \n",
    "                                   dpi=100, bbox_inches='tight')\n",
    "                    except:\n",
    "                        pass\n",
    "                plt.show()\n",
    "            except Exception as e:\n",
    "                print(f\"    ⚠️ Correlation heatmap failed: {e}\")\n",
    "                \n",
    "    except Exception as e:\n",
    "        print(f\"❌ Feature analysis failed: {e}\")\n",
    "\n",
    "def create_performance_tracking_plot(f1_scores, predictions_count):\n",
    "    \"\"\"Create performance plots with error handling\"\"\"\n",
    "    try:\n",
    "        if not f1_scores:\n",
    "            return\n",
    "            \n",
    "        print(\"\\n🎯 Creating performance analysis plots...\")\n",
    "        \n",
    "        f1_df = pd.DataFrame(f1_scores, columns=['body_parts', 'action', 'f1_score'])\n",
    "        \n",
    "        fig = plt.figure(figsize=(20, 12))\n",
    "        \n",
    "        # Multiple performance visualizations with individual error handling\n",
    "        plot_functions = [\n",
    "            lambda: create_f1_by_action(fig, f1_df),\n",
    "            lambda: create_f1_histogram(fig, f1_df),\n",
    "            lambda: create_performance_by_config(fig, f1_df),\n",
    "            lambda: create_top_bottom_performers(fig, f1_df),\n",
    "            lambda: create_prediction_accumulation(fig, predictions_count),\n",
    "            lambda: create_performance_summary(fig, f1_df, predictions_count)\n",
    "        ]\n",
    "        \n",
    "        for i, plot_func in enumerate(plot_functions, 1):\n",
    "            try:\n",
    "                plot_func()\n",
    "            except Exception as e:\n",
    "                print(f\"    ⚠️ Performance subplot {i} failed: {e}\")\n",
    "        \n",
    "        plt.suptitle('Comprehensive Model Performance Analysis', fontsize=14, fontweight='bold')\n",
    "        plt.tight_layout()\n",
    "        \n",
    "        if save_plots:\n",
    "            try:\n",
    "                plt.savefig(os.path.join(plot_dir, 'performance_analysis.png'), \n",
    "                           dpi=100, bbox_inches='tight')\n",
    "            except:\n",
    "                pass\n",
    "        plt.show()\n",
    "        \n",
    "    except Exception as e:\n",
    "        print(f\"❌ Performance tracking plot failed: {e}\")\n",
    "\n",
    "def create_f1_by_action(fig, f1_df):\n",
    "    ax1 = plt.subplot(3, 3, 1)\n",
    "    action_f1 = f1_df.groupby('action')['f1_score'].agg(['mean', 'std']).sort_values('mean', ascending=False)\n",
    "    \n",
    "    ax1.barh(range(len(action_f1)), action_f1['mean'], xerr=action_f1['std'].fillna(0),\n",
    "            color='green', alpha=0.7, capsize=3)\n",
    "    ax1.set_yticks(range(len(action_f1)))\n",
    "    ax1.set_yticklabels(action_f1.index, fontsize=9)\n",
    "    ax1.set_xlabel('F1 Score')\n",
    "    ax1.set_title('F1 Score by Action (with std)', fontweight='bold')\n",
    "    ax1.grid(True, alpha=0.3, axis='x')\n",
    "\n",
    "def create_f1_histogram(fig, f1_df):\n",
    "    ax2 = plt.subplot(3, 3, 2)\n",
    "    ax2.hist(f1_df['f1_score'], bins=25, color='blue', edgecolor='black', alpha=0.7)\n",
    "    ax2.set_xlabel('F1 Score')\n",
    "    ax2.set_ylabel('Frequency')\n",
    "    ax2.set_title('F1 Score Distribution', fontweight='bold')\n",
    "    ax2.axvline(f1_df['f1_score'].mean(), color='red', linestyle='--',\n",
    "               label=f'Mean: {f1_df[\"f1_score\"].mean():.3f}')\n",
    "    ax2.axvline(f1_df['f1_score'].median(), color='green', linestyle='--',\n",
    "               label=f'Median: {f1_df[\"f1_score\"].median():.3f}')\n",
    "    ax2.legend()\n",
    "    ax2.grid(True, alpha=0.3)\n",
    "\n",
    "def create_performance_by_config(fig, f1_df):\n",
    "    ax3 = plt.subplot(3, 3, 3)\n",
    "    config_f1 = f1_df.groupby('body_parts')['f1_score'].mean()\n",
    "    ax3.plot(range(len(config_f1)), config_f1.values, 'o-', color='purple', linewidth=2, markersize=8)\n",
    "    ax3.set_xlabel('Configuration Index')\n",
    "    ax3.set_ylabel('Mean F1 Score')\n",
    "    ax3.set_title('Performance by Configuration', fontweight='bold')\n",
    "    ax3.grid(True, alpha=0.3)\n",
    "\n",
    "def create_top_bottom_performers(fig, f1_df):\n",
    "    ax4 = plt.subplot(3, 3, 4)\n",
    "    action_f1 = f1_df.groupby('action')['f1_score'].mean().sort_values(ascending=False)\n",
    "    \n",
    "    if len(action_f1) > 0:\n",
    "        top_5 = action_f1.head(5)\n",
    "        bottom_5 = action_f1.tail(5) if len(action_f1) > 5 else pd.Series()\n",
    "        all_performers = pd.concat([top_5, bottom_5])\n",
    "        colors = ['green'] * len(top_5) + ['red'] * len(bottom_5)\n",
    "        \n",
    "        ax4.bar(range(len(all_performers)), all_performers.values, color=colors, alpha=0.7)\n",
    "        ax4.set_xticks(range(len(all_performers)))\n",
    "        ax4.set_xticklabels(all_performers.index, rotation=45, ha='right', fontsize=8)\n",
    "        ax4.set_ylabel('F1 Score')\n",
    "        ax4.set_title('Best & Worst Performing Actions', fontweight='bold')\n",
    "        ax4.grid(True, alpha=0.3, axis='y')\n",
    "\n",
    "def create_prediction_accumulation(fig, predictions_count):\n",
    "    ax5 = plt.subplot(3, 3, 5)\n",
    "    if predictions_count:\n",
    "        ax5.plot(range(len(predictions_count)), np.cumsum(predictions_count), \n",
    "                'b-', linewidth=2)\n",
    "        ax5.fill_between(range(len(predictions_count)), 0, np.cumsum(predictions_count), \n",
    "                         alpha=0.3, color='blue')\n",
    "    ax5.set_xlabel('Configuration')\n",
    "    ax5.set_ylabel('Cumulative Predictions')\n",
    "    ax5.set_title('Prediction Accumulation', fontweight='bold')\n",
    "    ax5.grid(True, alpha=0.3)\n",
    "\n",
    "def create_performance_summary(fig, f1_df, predictions_count):\n",
    "    ax6 = plt.subplot(3, 3, 6)\n",
    "    ax6.axis('off')\n",
    "    \n",
    "    action_f1 = f1_df.groupby('action')['f1_score'].mean().sort_values(ascending=False)\n",
    "    \n",
    "    stats_text = f\"\"\"\n",
    "    PERFORMANCE SUMMARY\n",
    "    {'-'*40}\n",
    "    \n",
    "    F1 STATISTICS:\n",
    "    • Mean: {f1_df['f1_score'].mean():.4f}\n",
    "    • Median: {f1_df['f1_score'].median():.4f}\n",
    "    • Std: {f1_df['f1_score'].std():.4f}\n",
    "    • Min: {f1_df['f1_score'].min():.4f}\n",
    "    • Max: {f1_df['f1_score'].max():.4f}\n",
    "    \n",
    "    BEST PERFORMERS:\n",
    "    1. {action_f1.index[0] if len(action_f1) > 0 else 'N/A'}: {action_f1.iloc[0] if len(action_f1) > 0 else 0:.3f}\n",
    "    2. {action_f1.index[1] if len(action_f1) > 1 else 'N/A'}: {action_f1.iloc[1] if len(action_f1) > 1 else 0:.3f}\n",
    "    3. {action_f1.index[2] if len(action_f1) > 2 else 'N/A'}: {action_f1.iloc[2] if len(action_f1) > 2 else 0:.3f}\n",
    "    \n",
    "    TOTALS:\n",
    "    • Actions: {f1_df['action'].nunique()}\n",
    "    • Configurations: {f1_df['body_parts'].nunique()}\n",
    "    • Total Predictions: {sum(predictions_count) if predictions_count else 0:,}\n",
    "    \"\"\"\n",
    "    \n",
    "    ax6.text(0.1, 0.9, stats_text, transform=ax6.transAxes, fontsize=10,\n",
    "            verticalalignment='top', fontfamily='monospace')\n",
    "\n",
    "def create_interactive_dashboard(train_df, test_df, f1_scores=None):\n",
    "    \"\"\"Create interactive dashboard with error handling\"\"\"\n",
    "    if not PLOTLY_AVAILABLE:\n",
    "        print(\"    ⚠️ Plotly not available - skipping interactive dashboard\")\n",
    "        return\n",
    "    \n",
    "    try:\n",
    "        print(\"\\n🎨 Creating interactive dashboard...\")\n",
    "        \n",
    "        fig = make_subplots(\n",
    "            rows=3, cols=3,\n",
    "            subplot_titles=('Videos per Lab', 'Mice Distribution', 'Body Parts Config',\n",
    "                           'Behavior Types', 'Lab Distribution', 'Configuration Complexity',\n",
    "                           'Training Size', 'Test Coverage', 'Dataset Balance'),\n",
    "            specs=[[{'type': 'bar'}, {'type': 'pie'}, {'type': 'box'}],\n",
    "                   [{'type': 'scatter'}, {'type': 'bar'}, {'type': 'scatter'}],\n",
    "                   [{'type': 'histogram'}, {'type': 'bar'}, {'type': 'indicator'}]]\n",
    "        )\n",
    "        \n",
    "        # Add traces with error handling\n",
    "        try:\n",
    "            lab_counts = train_df['lab_id'].value_counts().head(15)\n",
    "            fig.add_trace(\n",
    "                go.Bar(x=lab_counts.index, y=lab_counts.values, \n",
    "                      marker_color='lightblue', name='Videos'),\n",
    "                row=1, col=1\n",
    "            )\n",
    "        except:\n",
    "            pass\n",
    "        \n",
    "        try:\n",
    "            mice_dist = train_df['n_mice'].value_counts()\n",
    "            fig.add_trace(\n",
    "                go.Pie(labels=[f'{i} mice' for i in mice_dist.index], \n",
    "                      values=mice_dist.values, name='Mice'),\n",
    "                row=1, col=2\n",
    "            )\n",
    "        except:\n",
    "            pass\n",
    "        \n",
    "        try:\n",
    "            body_parts_counts = train_df['body_parts_tracked'].apply(safe_json_loads).apply(len)\n",
    "            fig.add_trace(\n",
    "                go.Box(y=body_parts_counts.values, name='Body Parts'),\n",
    "                row=1, col=3\n",
    "            )\n",
    "        except:\n",
    "            pass\n",
    "        \n",
    "        fig.update_layout(\n",
    "            title_text=\"MABe Challenge Interactive Dashboard\",\n",
    "            showlegend=False,\n",
    "            height=900,\n",
    "            width=1400\n",
    "        )\n",
    "        \n",
    "        fig.show()\n",
    "        \n",
    "        if save_plots:\n",
    "            try:\n",
    "                fig.write_html(os.path.join(plot_dir, \"interactive_dashboard.html\"))\n",
    "                print(\"    💾 Saved interactive dashboard as HTML\")\n",
    "            except Exception as e:\n",
    "                print(f\"    ⚠️ Failed to save interactive dashboard: {e}\")\n",
    "                \n",
    "    except Exception as e:\n",
    "        print(f\"❌ Interactive dashboard failed: {e}\")"
   ]
  },
  {
   "cell_type": "code",
   "execution_count": 3,
   "metadata": {},
   "outputs": [],
   "source": [
    "# Custom classes for the model\n",
    "class TrainOnSubsetClassifier(ClassifierMixin, BaseEstimator):\n",
    "    def __init__(self, estimator, n_samples):\n",
    "        self.estimator = estimator\n",
    "        self.n_samples = n_samples\n",
    "\n",
    "    def fit(self, X, y):\n",
    "        downsample = max(1, len(X) // self.n_samples)\n",
    "        self.estimator.fit(np.array(X, copy=False)[::downsample],\n",
    "                          np.array(y, copy=False)[::downsample])\n",
    "        self.classes_ = self.estimator.classes_\n",
    "        return self\n",
    "\n",
    "    def predict_proba(self, X):\n",
    "        return self.estimator.predict_proba(np.array(X))\n",
    "        \n",
    "    def predict(self, X):\n",
    "        return self.estimator.predict(np.array(X))\n",
    "\n",
    "class HostVisibleError(Exception):\n",
    "    pass\n",
    "\n"
   ]
  },
  {
   "cell_type": "code",
   "execution_count": 4,
   "metadata": {},
   "outputs": [],
   "source": [
    "def single_lab_f1(lab_solution: pl.DataFrame, lab_submission: pl.DataFrame, beta: float = 1) -> float:\n",
    "    label_frames = defaultdict(set)\n",
    "    prediction_frames = defaultdict(set)\n",
    "    \n",
    "    for row in lab_solution.to_dicts():\n",
    "        label_frames[row['label_key']].update(range(row['start_frame'], row['stop_frame']))\n",
    "\n",
    "    for video in lab_solution['video_id'].unique():\n",
    "        active_labels = lab_solution.filter(pl.col('video_id') == video)['behaviors_labeled'].first()\n",
    "        active_labels = set(json.loads(active_labels)) if active_labels else set()\n",
    "        predicted_mouse_pairs = defaultdict(set)\n",
    "\n",
    "        for row in lab_submission.filter(pl.col('video_id') == video).to_dicts():\n",
    "            if ','.join([str(row['agent_id']), str(row['target_id']), row['action']]) not in active_labels:\n",
    "                continue\n",
    "           \n",
    "            new_frames = set(range(row['start_frame'], row['stop_frame']))\n",
    "            new_frames = new_frames.difference(prediction_frames[row['prediction_key']])\n",
    "            prediction_pair = ','.join([str(row['agent_id']), str(row['target_id'])])\n",
    "            \n",
    "            if predicted_mouse_pairs[prediction_pair].intersection(new_frames):\n",
    "                raise HostVisibleError('Multiple predictions for the same frame')\n",
    "            \n",
    "            prediction_frames[row['prediction_key']].update(new_frames)\n",
    "            predicted_mouse_pairs[prediction_pair].update(new_frames)\n",
    "\n",
    "    tps = defaultdict(int)\n",
    "    fns = defaultdict(int)\n",
    "    fps = defaultdict(int)\n",
    "    \n",
    "    for key, pred_frames in prediction_frames.items():\n",
    "        action = key.split('_')[-1]\n",
    "        matched_label_frames = label_frames[key]\n",
    "        tps[action] += len(pred_frames.intersection(matched_label_frames))\n",
    "        fns[action] += len(matched_label_frames.difference(pred_frames))\n",
    "        fps[action] += len(pred_frames.difference(matched_label_frames))\n",
    "\n",
    "    distinct_actions = set()\n",
    "    for key, frames in label_frames.items():\n",
    "        action = key.split('_')[-1]\n",
    "        distinct_actions.add(action)\n",
    "        if key not in prediction_frames:\n",
    "            fns[action] += len(frames)\n",
    "\n",
    "    action_f1s = []\n",
    "    for action in distinct_actions:\n",
    "        if tps[action] + fns[action] + fps[action] == 0:\n",
    "            action_f1s.append(0)\n",
    "        else:\n",
    "            action_f1s.append((1 + beta**2) * tps[action] / \n",
    "                            ((1 + beta**2) * tps[action] + beta**2 * fns[action] + fps[action]))\n",
    "    \n",
    "    return sum(action_f1s) / len(action_f1s) if action_f1s else 0\n",
    "\n",
    "def mouse_fbeta(solution: pd.DataFrame, submission: pd.DataFrame, beta: float = 1) -> float:\n",
    "    if len(solution) == 0 or len(submission) == 0:\n",
    "        raise ValueError('Missing solution or submission data')\n",
    "\n",
    "    expected_cols = ['video_id', 'agent_id', 'target_id', 'action', 'start_frame', 'stop_frame']\n",
    "    \n",
    "    for col in expected_cols:\n",
    "        if col not in solution.columns:\n",
    "            raise ValueError(f'Solution is missing column {col}')\n",
    "        if col not in submission.columns:\n",
    "            raise ValueError(f'Submission is missing column {col}')\n",
    "\n",
    "    solution = pl.DataFrame(solution)\n",
    "    submission = pl.DataFrame(submission)\n",
    "    \n",
    "    assert (solution['start_frame'] <= solution['stop_frame']).all()\n",
    "    assert (submission['start_frame'] <= submission['stop_frame']).all()\n",
    "    \n",
    "    solution_videos = set(solution['video_id'].unique())\n",
    "    submission = submission.filter(pl.col('video_id').is_in(solution_videos))\n",
    "\n",
    "    solution = solution.with_columns(\n",
    "        pl.concat_str([\n",
    "            pl.col('video_id').cast(pl.Utf8),\n",
    "            pl.col('agent_id').cast(pl.Utf8),\n",
    "            pl.col('target_id').cast(pl.Utf8),\n",
    "            pl.col('action'),\n",
    "        ], separator='_').alias('label_key'),\n",
    "    )\n",
    "    \n",
    "    submission = submission.with_columns(\n",
    "        pl.concat_str([\n",
    "            pl.col('video_id').cast(pl.Utf8),\n",
    "            pl.col('agent_id').cast(pl.Utf8),\n",
    "            pl.col('target_id').cast(pl.Utf8),\n",
    "            pl.col('action'),\n",
    "        ], separator='_').alias('prediction_key'),\n",
    "    )\n",
    "\n",
    "    lab_scores = []\n",
    "    for lab in solution['lab_id'].unique():\n",
    "        lab_solution = solution.filter(pl.col('lab_id') == lab).clone()\n",
    "        lab_videos = set(lab_solution['video_id'].unique())\n",
    "        lab_submission = submission.filter(pl.col('video_id').is_in(lab_videos)).clone()\n",
    "        lab_scores.append(single_lab_f1(lab_solution, lab_submission, beta=beta))\n",
    "\n",
    "    return sum(lab_scores) / len(lab_scores) if lab_scores else 0\n",
    "\n",
    "def score(solution: pd.DataFrame, submission: pd.DataFrame, row_id_column_name: str, beta: float = 1) -> float:\n",
    "    solution = solution.drop(row_id_column_name, axis='columns', errors='ignore')\n",
    "    submission = submission.drop(row_id_column_name, axis='columns', errors='ignore')\n",
    "    return mouse_fbeta(solution, submission, beta=beta)"
   ]
  },
  {
   "cell_type": "code",
   "execution_count": 5,
   "metadata": {},
   "outputs": [
    {
     "name": "stdout",
     "output_type": "stream",
     "text": [
      "\n",
      "============================================================\n",
      "📁 DATA LOADING AND INITIAL ANALYSIS\n",
      "============================================================\n",
      "\n",
      "⏳ Loading training data...\n",
      "⏳ Loading test data...\n",
      "\n",
      "✅ DATA LOADING COMPLETE!\n",
      "------------------------------------------------------------\n",
      "📊 Training Data Statistics:\n",
      "   • Total videos: 8,790\n",
      "   • Videos after filtering: 864\n",
      "   • Videos with missing behaviors: 7926\n",
      "   • Unique laboratories: 21\n",
      "   • Body part configurations: 10\n",
      "\n",
      "📊 Test Data Statistics:\n",
      "   • Total videos: 1\n",
      "   • Unique laboratories: 1\n",
      "\n",
      "🐭 Mice Distribution:\n",
      "   • 2 mouse/mice: 847 videos (9.6%)\n",
      "   • 3 mouse/mice: 7,933 videos (90.3%)\n",
      "   • 4 mouse/mice: 10 videos (0.1%)\n",
      "\n",
      "============================================================\n",
      "📊 CREATING DATA OVERVIEW VISUALIZATIONS\n",
      "============================================================\n",
      "    💾 Saved: data_overview.png\n"
     ]
    },
    {
     "data": {
      "image/png": "[encoded data removed]",
      "text/plain": [
       "<Figure size 2000x1400 with 8 Axes>"
      ]
     },
     "metadata": {},
     "output_type": "display_data"
    },
    {
     "name": "stdout",
     "output_type": "stream",
     "text": [
      "\n",
      "🎨 Creating interactive dashboard...\n"
     ]
    },
    {
     "data": {
      "application/vnd.plotly.v1+json": {
       "config": {
        "plotlyServerURL": "https://plot.ly"
       },
       "data": [
        {
         "marker": {
          "color": "lightblue"
         },
         "name": "Videos",
         "type": "bar",
         "x": [
          "MABe22_keypoints",
          "MABe22_movies",
          "CalMS21_supplemental",
          "CalMS21_task1",
          "CalMS21_task2",
          "SparklingTapir",
          "JovialSwallow",
          "PleasantMeerkat",
          "InvincibleJellyfish",
          "TranquilPanther",
          "LyricalHare",
          "CRIM13",
          "UppityFerret",
          "ReflectiveManatee",
          "ElegantMink"
         ],
         "xaxis": "x",
         "y": {
          "bdata": "yBQuCikBZQBMAEYANAAkACEAGQAYABUAFQAUABMA",
          "dtype": "i2"
         },
         "yaxis": "y"
        },
        {
         "domain": {
          "x": [
           0.35555555555555557,
           0.6444444444444445
          ],
          "y": [
           0.7777777777777778,
           1
          ]
         },
         "labels": [
          "3 mice",
          "2 mice",
          "4 mice"
         ],
         "name": "Mice",
         "type": "pie",
         "values": {
          "bdata": "/R5PAwoA",
          "dtype": "i2"
         }
        },
        {
         "name": "Body Parts",
         "type": "box",
         "xaxis": "x2",
         "y": {
          "bdata": "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",
          "dtype": "i1"
         },
         "yaxis": "y2"
        }
       ],
       "layout": {
        "annotations": [
         {
          "font": {
           "size": 16
          },
          "showarrow": false,
          "text": "Videos per Lab",
          "x": 0.14444444444444446,
          "xanchor": "center",
          "xref": "paper",
          "y": 1,
          "yanchor": "bottom",
          "yref": "paper"
         },
         {
          "font": {
           "size": 16
          },
          "showarrow": false,
          "text": "Mice Distribution",
          "x": 0.5,
          "xanchor": "center",
          "xref": "paper",
          "y": 1,
          "yanchor": "bottom",
          "yref": "paper"
         },
         {
          "font": {
           "size": 16
          },
          "showarrow": false,
          "text": "Body Parts Config",
          "x": 0.8555555555555556,
          "xanchor": "center",
          "xref": "paper",
          "y": 1,
          "yanchor": "bottom",
          "yref": "paper"
         },
         {
          "font": {
           "size": 16
          },
          "showarrow": false,
          "text": "Behavior Types",
          "x": 0.14444444444444446,
          "xanchor": "center",
          "xref": "paper",
          "y": 0.6111111111111112,
          "yanchor": "bottom",
          "yref": "paper"
         },
         {
          "font": {
           "size": 16
          },
          "showarrow": false,
          "text": "Lab Distribution",
          "x": 0.5,
          "xanchor": "center",
          "xref": "paper",
          "y": 0.6111111111111112,
          "yanchor": "bottom",
          "yref": "paper"
         },
         {
          "font": {
           "size": 16
          },
          "showarrow": false,
          "text": "Configuration Complexity",
          "x": 0.8555555555555556,
          "xanchor": "center",
          "xref": "paper",
          "y": 0.6111111111111112,
          "yanchor": "bottom",
          "yref": "paper"
         },
         {
          "font": {
           "size": 16
          },
          "showarrow": false,
          "text": "Training Size",
          "x": 0.14444444444444446,
          "xanchor": "center",
          "xref": "paper",
          "y": 0.22222222222222224,
          "yanchor": "bottom",
          "yref": "paper"
         },
         {
          "font": {
           "size": 16
          },
          "showarrow": false,
          "text": "Test Coverage",
          "x": 0.5,
          "xanchor": "center",
          "xref": "paper",
          "y": 0.22222222222222224,
          "yanchor": "bottom",
          "yref": "paper"
         },
         {
          "font": {
           "size": 16
          },
          "showarrow": false,
          "text": "Dataset Balance",
          "x": 0.8555555555555556,
          "xanchor": "center",
          "xref": "paper",
          "y": 0.22222222222222224,
          "yanchor": "bottom",
          "yref": "paper"
         }
        ],
        "height": 900,
        "showlegend": false,
        "template": {
         "data": {
          "bar": [
           {
            "error_x": {
             "color": "#2a3f5f"
            },
            "error_y": {
             "color": "#2a3f5f"
            },
            "marker": {
             "line": {
              "color": "#E5ECF6",
              "width": 0.5
             },
             "pattern": {
              "fillmode": "overlay",
              "size": 10,
              "solidity": 0.2
             }
            },
            "type": "bar"
           }
          ],
          "barpolar": [
           {
            "marker": {
             "line": {
              "color": "#E5ECF6",
              "width": 0.5
             },
             "pattern": {
              "fillmode": "overlay",
              "size": 10,
              "solidity": 0.2
             }
            },
            "type": "barpolar"
           }
          ],
          "carpet": [
           {
            "aaxis": {
             "endlinecolor": "#2a3f5f",
             "gridcolor": "white",
             "linecolor": "white",
             "minorgridcolor": "white",
             "startlinecolor": "#2a3f5f"
            },
            "baxis": {
             "endlinecolor": "#2a3f5f",
             "gridcolor": "white",
             "linecolor": "white",
             "minorgridcolor": "white",
             "startlinecolor": "#2a3f5f"
            },
            "type": "carpet"
           }
          ],
          "choropleth": [
           {
            "colorbar": {
             "outlinewidth": 0,
             "ticks": ""
            },
            "type": "choropleth"
           }
          ],
          "contour": [
           {
            "colorbar": {
             "outlinewidth": 0,
             "ticks": ""
            },
            "colorscale": [
             [
              0,
              "#0d0887"
             ],
             [
              0.1111111111111111,
              "#46039f"
             ],
             [
              0.2222222222222222,
              "#7201a8"
             ],
             [
              0.3333333333333333,
              "#9c179e"
             ],
             [
              0.4444444444444444,
              "#bd3786"
             ],
             [
              0.5555555555555556,
              "#d8576b"
             ],
             [
              0.6666666666666666,
              "#ed7953"
             ],
             [
              0.7777777777777778,
              "#fb9f3a"
             ],
             [
              0.8888888888888888,
              "#fdca26"
             ],
             [
              1,
              "#f0f921"
             ]
            ],
            "type": "contour"
           }
          ],
          "contourcarpet": [
           {
            "colorbar": {
             "outlinewidth": 0,
             "ticks": ""
            },
            "type": "contourcarpet"
           }
          ],
          "heatmap": [
           {
            "colorbar": {
             "outlinewidth": 0,
             "ticks": ""
            },
            "colorscale": [
             [
              0,
              "#0d0887"
             ],
             [
              0.1111111111111111,
              "#46039f"
             ],
             [
              0.2222222222222222,
              "#7201a8"
             ],
             [
              0.3333333333333333,
              "#9c179e"
             ],
             [
              0.4444444444444444,
              "#bd3786"
             ],
             [
              0.5555555555555556,
              "#d8576b"
             ],
             [
              0.6666666666666666,
              "#ed7953"
             ],
             [
              0.7777777777777778,
              "#fb9f3a"
             ],
             [
              0.8888888888888888,
              "#fdca26"
             ],
             [
              1,
              "#f0f921"
             ]
            ],
            "type": "heatmap"
           }
          ],
          "histogram": [
           {
            "marker": {
             "pattern": {
              "fillmode": "overlay",
              "size": 10,
              "solidity": 0.2
             }
            },
            "type": "histogram"
           }
          ],
          "histogram2d": [
           {
            "colorbar": {
             "outlinewidth": 0,
             "ticks": ""
            },
            "colorscale": [
             [
              0,
              "#0d0887"
             ],
             [
              0.1111111111111111,
              "#46039f"
             ],
             [
              0.2222222222222222,
              "#7201a8"
             ],
             [
              0.3333333333333333,
              "#9c179e"
             ],
             [
              0.4444444444444444,
              "#bd3786"
             ],
             [
              0.5555555555555556,
              "#d8576b"
             ],
             [
              0.6666666666666666,
              "#ed7953"
             ],
             [
              0.7777777777777778,
              "#fb9f3a"
             ],
             [
              0.8888888888888888,
              "#fdca26"
             ],
             [
              1,
              "#f0f921"
             ]
            ],
            "type": "histogram2d"
           }
          ],
          "histogram2dcontour": [
           {
            "colorbar": {
             "outlinewidth": 0,
             "ticks": ""
            },
            "colorscale": [
             [
              0,
              "#0d0887"
             ],
             [
              0.1111111111111111,
              "#46039f"
             ],
             [
              0.2222222222222222,
              "#7201a8"
             ],
             [
              0.3333333333333333,
              "#9c179e"
             ],
             [
              0.4444444444444444,
              "#bd3786"
             ],
             [
              0.5555555555555556,
              "#d8576b"
             ],
             [
              0.6666666666666666,
              "#ed7953"
             ],
             [
              0.7777777777777778,
              "#fb9f3a"
             ],
             [
              0.8888888888888888,
              "#fdca26"
             ],
             [
              1,
              "#f0f921"
             ]
            ],
            "type": "histogram2dcontour"
           }
          ],
          "mesh3d": [
           {
            "colorbar": {
             "outlinewidth": 0,
             "ticks": ""
            },
            "type": "mesh3d"
           }
          ],
          "parcoords": [
           {
            "line": {
             "colorbar": {
              "outlinewidth": 0,
              "ticks": ""
             }
            },
            "type": "parcoords"
           }
          ],
          "pie": [
           {
            "automargin": true,
            "type": "pie"
           }
          ],
          "scatter": [
           {
            "fillpattern": {
             "fillmode": "overlay",
             "size": 10,
             "solidity": 0.2
            },
            "type": "scatter"
           }
          ],
          "scatter3d": [
           {
            "line": {
             "colorbar": {
              "outlinewidth": 0,
              "ticks": ""
             }
            },
            "marker": {
             "colorbar": {
              "outlinewidth": 0,
              "ticks": ""
             }
            },
            "type": "scatter3d"
           }
          ],
          "scattercarpet": [
           {
            "marker": {
             "colorbar": {
              "outlinewidth": 0,
              "ticks": ""
             }
            },
            "type": "scattercarpet"
           }
          ],
          "scattergeo": [
           {
            "marker": {
             "colorbar": {
              "outlinewidth": 0,
              "ticks": ""
             }
            },
            "type": "scattergeo"
           }
          ],
          "scattergl": [
           {
            "marker": {
             "colorbar": {
              "outlinewidth": 0,
              "ticks": ""
             }
            },
            "type": "scattergl"
           }
          ],
          "scattermap": [
           {
            "marker": {
             "colorbar": {
              "outlinewidth": 0,
              "ticks": ""
             }
            },
            "type": "scattermap"
           }
          ],
          "scattermapbox": [
           {
            "marker": {
             "colorbar": {
              "outlinewidth": 0,
              "ticks": ""
             }
            },
            "type": "scattermapbox"
           }
          ],
          "scatterpolar": [
           {
            "marker": {
             "colorbar": {
              "outlinewidth": 0,
              "ticks": ""
             }
            },
            "type": "scatterpolar"
           }
          ],
          "scatterpolargl": [
           {
            "marker": {
             "colorbar": {
              "outlinewidth": 0,
              "ticks": ""
             }
            },
            "type": "scatterpolargl"
           }
          ],
          "scatterternary": [
           {
            "marker": {
             "colorbar": {
              "outlinewidth": 0,
              "ticks": ""
             }
            },
            "type": "scatterternary"
           }
          ],
          "surface": [
           {
            "colorbar": {
             "outlinewidth": 0,
             "ticks": ""
            },
            "colorscale": [
             [
              0,
              "#0d0887"
             ],
             [
              0.1111111111111111,
              "#46039f"
             ],
             [
              0.2222222222222222,
              "#7201a8"
             ],
             [
              0.3333333333333333,
              "#9c179e"
             ],
             [
              0.4444444444444444,
              "#bd3786"
             ],
             [
              0.5555555555555556,
              "#d8576b"
             ],
             [
              0.6666666666666666,
              "#ed7953"
             ],
             [
              0.7777777777777778,
              "#fb9f3a"
             ],
             [
              0.8888888888888888,
              "#fdca26"
             ],
             [
              1,
              "#f0f921"
             ]
            ],
            "type": "surface"
           }
          ],
          "table": [
           {
            "cells": {
             "fill": {
              "color": "#EBF0F8"
             },
             "line": {
              "color": "white"
             }
            },
            "header": {
             "fill": {
              "color": "#C8D4E3"
             },
             "line": {
              "color": "white"
             }
            },
            "type": "table"
           }
          ]
         },
         "layout": {
          "annotationdefaults": {
           "arrowcolor": "#2a3f5f",
           "arrowhead": 0,
           "arrowwidth": 1
          },
          "autotypenumbers": "strict",
          "coloraxis": {
           "colorbar": {
            "outlinewidth": 0,
            "ticks": ""
           }
          },
          "colorscale": {
           "diverging": [
            [
             0,
             "#8e0152"
            ],
            [
             0.1,
             "#c51b7d"
            ],
            [
             0.2,
             "#de77ae"
            ],
            [
             0.3,
             "#f1b6da"
            ],
            [
             0.4,
             "#fde0ef"
            ],
            [
             0.5,
             "#f7f7f7"
            ],
            [
             0.6,
             "#e6f5d0"
            ],
            [
             0.7,
             "#b8e186"
            ],
            [
             0.8,
             "#7fbc41"
            ],
            [
             0.9,
             "#4d9221"
            ],
            [
             1,
             "#276419"
            ]
           ],
           "sequential": [
            [
             0,
             "#0d0887"
            ],
            [
             0.1111111111111111,
             "#46039f"
            ],
            [
             0.2222222222222222,
             "#7201a8"
            ],
            [
             0.3333333333333333,
             "#9c179e"
            ],
            [
             0.4444444444444444,
             "#bd3786"
            ],
            [
             0.5555555555555556,
             "#d8576b"
            ],
            [
             0.6666666666666666,
             "#ed7953"
            ],
            [
             0.7777777777777778,
             "#fb9f3a"
            ],
            [
             0.8888888888888888,
             "#fdca26"
            ],
            [
             1,
             "#f0f921"
            ]
           ],
           "sequentialminus": [
            [
             0,
             "#0d0887"
            ],
            [
             0.1111111111111111,
             "#46039f"
            ],
            [
             0.2222222222222222,
             "#7201a8"
            ],
            [
             0.3333333333333333,
             "#9c179e"
            ],
            [
             0.4444444444444444,
             "#bd3786"
            ],
            [
             0.5555555555555556,
             "#d8576b"
            ],
            [
             0.6666666666666666,
             "#ed7953"
            ],
            [
             0.7777777777777778,
             "#fb9f3a"
            ],
            [
             0.8888888888888888,
             "#fdca26"
            ],
            [
             1,
             "#f0f921"
            ]
           ]
          },
          "colorway": [
           "#636efa",
           "#EF553B",
           "#00cc96",
           "#ab63fa",
           "#FFA15A",
           "#19d3f3",
           "#FF6692",
           "#B6E880",
           "#FF97FF",
           "#FECB52"
          ],
          "font": {
           "color": "#2a3f5f"
          },
          "geo": {
           "bgcolor": "white",
           "lakecolor": "white",
           "landcolor": "#E5ECF6",
           "showlakes": true,
           "showland": true,
           "subunitcolor": "white"
          },
          "hoverlabel": {
           "align": "left"
          },
          "hovermode": "closest",
          "mapbox": {
           "style": "light"
          },
          "paper_bgcolor": "white",
          "plot_bgcolor": "#E5ECF6",
          "polar": {
           "angularaxis": {
            "gridcolor": "white",
            "linecolor": "white",
            "ticks": ""
           },
           "bgcolor": "#E5ECF6",
           "radialaxis": {
            "gridcolor": "white",
            "linecolor": "white",
            "ticks": ""
           }
          },
          "scene": {
           "xaxis": {
            "backgroundcolor": "#E5ECF6",
            "gridcolor": "white",
            "gridwidth": 2,
            "linecolor": "white",
            "showbackground": true,
            "ticks": "",
            "zerolinecolor": "white"
           },
           "yaxis": {
            "backgroundcolor": "#E5ECF6",
            "gridcolor": "white",
            "gridwidth": 2,
            "linecolor": "white",
            "showbackground": true,
            "ticks": "",
            "zerolinecolor": "white"
           },
           "zaxis": {
            "backgroundcolor": "#E5ECF6",
            "gridcolor": "white",
            "gridwidth": 2,
            "linecolor": "white",
            "showbackground": true,
            "ticks": "",
            "zerolinecolor": "white"
           }
          },
          "shapedefaults": {
           "line": {
            "color": "#2a3f5f"
           }
          },
          "ternary": {
           "aaxis": {
            "gridcolor": "white",
            "linecolor": "white",
            "ticks": ""
           },
           "baxis": {
            "gridcolor": "white",
            "linecolor": "white",
            "ticks": ""
           },
           "bgcolor": "#E5ECF6",
           "caxis": {
            "gridcolor": "white",
            "linecolor": "white",
            "ticks": ""
           }
          },
          "title": {
           "x": 0.05
          },
          "xaxis": {
           "automargin": true,
           "gridcolor": "white",
           "linecolor": "white",
           "ticks": "",
           "title": {
            "standoff": 15
           },
           "zerolinecolor": "white",
           "zerolinewidth": 2
          },
          "yaxis": {
           "automargin": true,
           "gridcolor": "white",
           "linecolor": "white",
           "ticks": "",
           "title": {
            "standoff": 15
           },
           "zerolinecolor": "white",
           "zerolinewidth": 2
          }
         }
        },
        "title": {
         "text": "MABe Challenge Interactive Dashboard"
        },
        "width": 1400,
        "xaxis": {
         "anchor": "y",
         "domain": [
          0,
          0.2888888888888889
         ]
        },
        "xaxis2": {
         "anchor": "y2",
         "domain": [
          0.7111111111111111,
          1
         ]
        },
        "xaxis3": {
         "anchor": "y3",
         "domain": [
          0,
          0.2888888888888889
         ]
        },
        "xaxis4": {
         "anchor": "y4",
         "domain": [
          0.35555555555555557,
          0.6444444444444445
         ]
        },
        "xaxis5": {
         "anchor": "y5",
         "domain": [
          0.7111111111111111,
          1
         ]
        },
        "xaxis6": {
         "anchor": "y6",
         "domain": [
          0,
          0.2888888888888889
         ]
        },
        "xaxis7": {
         "anchor": "y7",
         "domain": [
          0.35555555555555557,
          0.6444444444444445
         ]
        },
        "yaxis": {
         "anchor": "x",
         "domain": [
          0.7777777777777778,
          1
         ]
        },
        "yaxis2": {
         "anchor": "x2",
         "domain": [
          0.7777777777777778,
          1
         ]
        },
        "yaxis3": {
         "anchor": "x3",
         "domain": [
          0.3888888888888889,
          0.6111111111111112
         ]
        },
        "yaxis4": {
         "anchor": "x4",
         "domain": [
          0.3888888888888889,
          0.6111111111111112
         ]
        },
        "yaxis5": {
         "anchor": "x5",
         "domain": [
          0.3888888888888889,
          0.6111111111111112
         ]
        },
        "yaxis6": {
         "anchor": "x6",
         "domain": [
          0,
          0.22222222222222224
         ]
        },
        "yaxis7": {
         "anchor": "x7",
         "domain": [
          0,
          0.22222222222222224
         ]
        }
       }
      }
     },
     "metadata": {},
     "output_type": "display_data"
    },
    {
     "name": "stdout",
     "output_type": "stream",
     "text": [
      "    💾 Saved interactive dashboard as HTML\n"
     ]
    }
   ],
   "source": [
    "# Data loading\n",
    "print(\"\\n\" + \"=\"*60)\n",
    "print(\"📁 DATA LOADING AND INITIAL ANALYSIS\")\n",
    "print(\"=\"*60)\n",
    "\n",
    "print(\"\\n⏳ Loading training data...\")\n",
    "train = pd.read_csv('data/_provided/train.csv')\n",
    "train['n_mice'] = 4 - train[['mouse1_strain', 'mouse2_strain', 'mouse3_strain', 'mouse4_strain']].isna().sum(axis=1)\n",
    "train_without_mabe22 = train.query(\"~ lab_id.str.startswith('MABe22_')\")\n",
    "\n",
    "print(\"⏳ Loading test data...\")\n",
    "test = pd.read_csv('data/_provided/test.csv')\n",
    "body_parts_tracked_list = list(np.unique(train.body_parts_tracked))\n",
    "\n",
    "print(\"\\n✅ DATA LOADING COMPLETE!\")\n",
    "print(\"-\" * 60)\n",
    "print(f\"📊 Training Data Statistics:\")\n",
    "print(f\"   • Total videos: {len(train):,}\")\n",
    "print(f\"   • Videos after filtering: {len(train_without_mabe22):,}\")\n",
    "print(f\"   • Videos with missing behaviors: {train['behaviors_labeled'].isna().sum()}\")\n",
    "print(f\"   • Unique laboratories: {train['lab_id'].nunique()}\")\n",
    "print(f\"   • Body part configurations: {len(body_parts_tracked_list)}\")\n",
    "print(f\"\\n📊 Test Data Statistics:\")\n",
    "print(f\"   • Total videos: {len(test):,}\")\n",
    "print(f\"   • Unique laboratories: {test['lab_id'].nunique()}\")\n",
    "\n",
    "print(f\"\\n🐭 Mice Distribution:\")\n",
    "for n_mice in sorted(train['n_mice'].unique()):\n",
    "    count = (train['n_mice'] == n_mice).sum()\n",
    "    pct = 100 * count / len(train)\n",
    "    print(f\"   • {n_mice} mouse/mice: {count:,} videos ({pct:.1f}%)\")\n",
    "\n",
    "if create_visualizations:\n",
    "    try:\n",
    "        behavior_counts = create_data_overview_plots(train, test)\n",
    "        create_interactive_dashboard(train, test)\n",
    "    except Exception as e:\n",
    "        print(f\"❌ Visualization failed: {e}\")"
   ]
  },
  {
   "cell_type": "code",
   "execution_count": 6,
   "metadata": {},
   "outputs": [],
   "source": [
    "def create_solution_df(dataset):\n",
    "    solution = []\n",
    "    for _, row in tqdm(dataset.iterrows(), total=len(dataset), desc=\"Creating solution\"):\n",
    "        lab_id = row['lab_id']\n",
    "        if lab_id.startswith('MABe22'): \n",
    "            continue\n",
    "        video_id = row['video_id']\n",
    "        path = f\"data/_provided/train_annotation/{lab_id}/{video_id}.parquet\"\n",
    "        try:\n",
    "            annot = pd.read_parquet(path)\n",
    "        except FileNotFoundError:\n",
    "            if verbose: \n",
    "                print(f\"No annotations for {path}\")\n",
    "            continue\n",
    "        \n",
    "        annot['lab_id'] = lab_id\n",
    "        annot['video_id'] = video_id\n",
    "        annot['behaviors_labeled'] = row['behaviors_labeled']\n",
    "        annot['target_id'] = np.where(annot.target_id != annot.agent_id, \n",
    "                                     annot['target_id'].apply(lambda s: f\"mouse{s}\"), 'self')\n",
    "        annot['agent_id'] = annot['agent_id'].apply(lambda s: f\"mouse{s}\")\n",
    "        solution.append(annot)\n",
    "    \n",
    "    if solution:\n",
    "        solution = pd.concat(solution)\n",
    "    else:\n",
    "        solution = pd.DataFrame()\n",
    "    return solution\n",
    "\n"
   ]
  },
  {
   "cell_type": "code",
   "execution_count": 7,
   "metadata": {},
   "outputs": [],
   "source": [
    "if validate_or_submit == 'validate':\n",
    "    print(\"\\n📋 Creating validation solution...\")\n",
    "    solution = create_solution_df(train_without_mabe22)\n",
    "    print(f\"   ✓ Solution created with {len(solution)} annotations\")"
   ]
  },
  {
   "cell_type": "code",
   "execution_count": null,
   "metadata": {},
   "outputs": [],
   "source": [
    "def generate_mouse_data(dataset, traintest, traintest_directory=None, generate_single=True, generate_pair=True):\n",
    "    assert traintest in ['train', 'test']\n",
    "    if traintest_directory is None:\n",
    "        traintest_directory = f\"data/_provided/{traintest}_tracking\"\n",
    "    \n",
    "    for _, row in dataset.iterrows():\n",
    "        lab_id = row.lab_id\n",
    "        if lab_id.startswith('MABe22'): \n",
    "            continue\n",
    "        video_id = row.video_id\n",
    "        path = f\"{traintest_directory}/{lab_id}/{video_id}.parquet\"\n",
    "        \n",
    "        try:\n",
    "            vid = pd.read_parquet(path)\n",
    "            pvid = vid.pivot(columns=['mouse_id', 'bodypart'], index='video_frame', values=['x', 'y'])\n",
    "            \n",
    "            if pvid.isna().any().any():\n",
    "                if verbose and traintest == 'test': \n",
    "                    print(f'Video {video_id}: missing values, {len(vid)} frames')\n",
    "            else:\n",
    "                if verbose and traintest == 'test': \n",
    "                    print(f'Video {video_id}: complete, {len(vid)} frames')\n",
    "            \n",
    "            del vid\n",
    "            pvid = pvid.reorder_levels([1, 2, 0], axis=1).T.sort_index().T\n",
    "            pvid /= row.pix_per_cm_approx\n",
    "            \n",
    "            # Handle NaN in behaviors_labeled\n",
    "            if pd.isna(row.behaviors_labeled):\n",
    "                continue\n",
    "                \n",
    "            vid_behaviors = json.loads(row.behaviors_labeled)\n",
    "            vid_behaviors = sorted(list({b.replace(\"'\", \"\") for b in vid_behaviors}))\n",
    "            vid_behaviors = [b.split(',') for b in vid_behaviors]\n",
    "            vid_behaviors = pd.DataFrame(vid_behaviors, columns=['agent', 'target', 'action'])\n",
    "            \n",
    "            if traintest == 'train':\n",
    "                try:\n",
    "                    annot = pd.read_parquet(path.replace('train_tracking', 'train_annotation'))\n",
    "                except FileNotFoundError:\n",
    "                    continue\n",
    "            \n",
    "            if generate_single:\n",
    "                vid_behaviors_subset = vid_behaviors.query(\"target == 'self'\")\n",
    "                for mouse_id_str in np.unique(vid_behaviors_subset.agent):\n",
    "                    try:\n",
    "                        mouse_id = int(mouse_id_str[-1])\n",
    "                        vid_agent_actions = np.unique(vid_behaviors_subset.query(\"agent == @mouse_id_str\").action)\n",
    "                        single_mouse = pvid.loc[:, mouse_id]\n",
    "                        assert len(single_mouse) == len(pvid)\n",
    "                        \n",
    "                        single_mouse_meta = pd.DataFrame({\n",
    "                            'video_id': video_id,\n",
    "                            'agent_id': mouse_id_str,\n",
    "                            'target_id': 'self',\n",
    "                            'video_frame': single_mouse.index\n",
    "                        })\n",
    "                        \n",
    "                        if traintest == 'train':\n",
    "                            single_mouse_label = pd.DataFrame(0.0, columns=vid_agent_actions, index=single_mouse.index)\n",
    "                            annot_subset = annot.query(\"(agent_id == @mouse_id) & (target_id == @mouse_id)\")\n",
    "                            for i in range(len(annot_subset)):\n",
    "                                annot_row = annot_subset.iloc[i]\n",
    "                                single_mouse_label.loc[annot_row['start_frame']:annot_row['stop_frame'], \n",
    "                                                     annot_row.action] = 1.0\n",
    "                            yield 'single', single_mouse, single_mouse_meta, single_mouse_label\n",
    "                        else:\n",
    "                            if verbose: \n",
    "                                print(f'  Processing single mouse {mouse_id}')\n",
    "                            yield 'single', single_mouse, single_mouse_meta, vid_agent_actions\n",
    "                    except KeyError:\n",
    "                        pass\n",
    "            \n",
    "            if generate_pair:\n",
    "                vid_behaviors_subset = vid_behaviors.query(\"target != 'self'\")\n",
    "                if len(vid_behaviors_subset) > 0:\n",
    "                    for agent, target in itertools.permutations(np.unique(pvid.columns.get_level_values('mouse_id')), 2):\n",
    "                        agent_str = f\"mouse{agent}\"\n",
    "                        target_str = f\"mouse{target}\"\n",
    "                        vid_agent_actions = np.unique(vid_behaviors_subset.query(\n",
    "                            \"(agent == @agent_str) & (target == @target_str)\").action)\n",
    "                        \n",
    "                        try:\n",
    "                            mouse_pair = pd.concat([pvid[agent], pvid[target]], axis=1, keys=['A', 'B'])\n",
    "                            assert len(mouse_pair) == len(pvid)\n",
    "                            \n",
    "                            mouse_pair_meta = pd.DataFrame({\n",
    "                                'video_id': video_id,\n",
    "                                'agent_id': agent_str,\n",
    "                                'target_id': target_str,\n",
    "                                'video_frame': mouse_pair.index\n",
    "                            })\n",
    "                            \n",
    "                            if traintest == 'train':\n",
    "                                mouse_pair_label = pd.DataFrame(0.0, columns=vid_agent_actions, index=mouse_pair.index)\n",
    "                                annot_subset = annot.query(\"(agent_id == @agent) & (target_id == @target)\")\n",
    "                                for i in range(len(annot_subset)):\n",
    "                                    annot_row = annot_subset.iloc[i]\n",
    "                                    mouse_pair_label.loc[annot_row['start_frame']:annot_row['stop_frame'], \n",
    "                                                       annot_row.action] = 1.0\n",
    "                                yield 'pair', mouse_pair, mouse_pair_meta, mouse_pair_label\n",
    "                            else:\n",
    "                                if verbose: \n",
    "                                    print(f'  Processing pair {agent} -> {target}')\n",
    "                                yield 'pair', mouse_pair, mouse_pair_meta, vid_agent_actions\n",
    "                        except KeyError:\n",
    "                            pass\n",
    "                            \n",
    "        except Exception as e:\n",
    "            if verbose:\n",
    "                print(f\"Error processing {video_id}: {e}\")\n",
    "            continue\n",
    "\n",
    "def transform_single(single_mouse, body_parts_tracked):\n",
    "    try:\n",
    "        X = pd.DataFrame({\n",
    "            f\"{part1}+{part2}\": np.square(single_mouse[part1] - single_mouse[part2]).sum(axis=1, skipna=False)\n",
    "            for part1, part2 in itertools.combinations(body_parts_tracked, 2)\n",
    "        })\n",
    "        \n",
    "        if 'ear_left' in single_mouse.columns and 'ear_right' in single_mouse.columns:\n",
    "            if 'tail_base' in single_mouse.columns:\n",
    "                shifted = single_mouse[['ear_left', 'ear_right', 'tail_base']].shift(10)\n",
    "                X = pd.concat([\n",
    "                    X, \n",
    "                    pd.DataFrame({\n",
    "                        'speed_left': np.square(single_mouse['ear_left'] - shifted['ear_left']).sum(axis=1, skipna=False),\n",
    "                        'speed_right': np.square(single_mouse['ear_right'] - shifted['ear_right']).sum(axis=1, skipna=False),\n",
    "                        'speed_left2': np.square(single_mouse['ear_left'] - shifted['tail_base']).sum(axis=1, skipna=False),\n",
    "                        'speed_right2': np.square(single_mouse['ear_right'] - shifted['tail_base']).sum(axis=1, skipna=False),\n",
    "                    })\n",
    "                ], axis=1)\n",
    "            else:\n",
    "                shifted = single_mouse[['ear_left', 'ear_right']].shift(10)\n",
    "                X = pd.concat([\n",
    "                    X,\n",
    "                    pd.DataFrame({\n",
    "                        'speed_left': np.square(single_mouse['ear_left'] - shifted['ear_left']).sum(axis=1, skipna=False),\n",
    "                        'speed_right': np.square(single_mouse['ear_right'] - shifted['ear_right']).sum(axis=1, skipna=False),\n",
    "                    })\n",
    "                ], axis=1)\n",
    "        \n",
    "        performance_metrics['features_extracted'] += len(X.columns)\n",
    "        return X\n",
    "        \n",
    "    except Exception as e:\n",
    "        if verbose:\n",
    "            print(f\"    Transform error: {e}\")\n",
    "        return pd.DataFrame(index=single_mouse.index)\n",
    "\n",
    "def transform_pair(mouse_pair, body_parts_tracked):\n",
    "    try:\n",
    "        drop_body_parts = ['ear_left', 'ear_right', 'headpiece_bottombackleft', \n",
    "                          'headpiece_bottombackright', 'headpiece_bottomfrontleft',\n",
    "                          'headpiece_bottomfrontright', 'headpiece_topbackleft',\n",
    "                          'headpiece_topbackright', 'headpiece_topfrontleft',\n",
    "                          'headpiece_topfrontright', 'tail_midpoint']\n",
    "        \n",
    "        if len(body_parts_tracked) > 5:\n",
    "            body_parts_tracked = [b for b in body_parts_tracked if b not in drop_body_parts]\n",
    "        \n",
    "        X = pd.DataFrame({\n",
    "            f\"12+{part1}+{part2}\": np.square(mouse_pair['A'][part1] - mouse_pair['B'][part2]).sum(axis=1, skipna=False)\n",
    "            for part1, part2 in itertools.product(body_parts_tracked, repeat=2)\n",
    "        })\n",
    "        \n",
    "        if ('A', 'ear_left') in mouse_pair.columns and ('B', 'ear_left') in mouse_pair.columns:\n",
    "            shifted_A = mouse_pair['A']['ear_left'].shift(10)\n",
    "            shifted_B = mouse_pair['B']['ear_left'].shift(10)\n",
    "            X = pd.concat([\n",
    "                X,\n",
    "                pd.DataFrame({\n",
    "                    'speed_left_A': np.square(mouse_pair['A']['ear_left'] - shifted_A).sum(axis=1, skipna=False),\n",
    "                    'speed_left_AB': np.square(mouse_pair['A']['ear_left'] - shifted_B).sum(axis=1, skipna=False),\n",
    "                    'speed_left_B': np.square(mouse_pair['B']['ear_left'] - shifted_B).sum(axis=1, skipna=False),\n",
    "                })\n",
    "            ], axis=1)\n",
    "        \n",
    "        performance_metrics['features_extracted'] += len(X.columns)\n",
    "        return X\n",
    "        \n",
    "    except Exception as e:\n",
    "        if verbose:\n",
    "            print(f\"    Transform error: {e}\")\n",
    "        return pd.DataFrame(index=mouse_pair.index)\n",
    "\n",
    "threshold = 0.27\n",
    "\n",
    "def predict_multiclass(pred, meta):\n",
    "    ama = np.argmax(pred, axis=1)\n",
    "    ama = np.where(pred.max(axis=1) >= threshold, ama, -1)\n",
    "    ama = pd.Series(ama, index=meta.video_frame)\n",
    "    \n",
    "    changes_mask = (ama != ama.shift(1)).values\n",
    "    ama_changes = ama[changes_mask]\n",
    "    meta_changes = meta[changes_mask]\n",
    "    \n",
    "    mask = ama_changes.values >= 0\n",
    "    mask[-1] = False\n",
    "    \n",
    "    submission_part = pd.DataFrame({\n",
    "        'video_id': meta_changes['video_id'][mask].values,\n",
    "        'agent_id': meta_changes['agent_id'][mask].values,\n",
    "        'target_id': meta_changes['target_id'][mask].values,\n",
    "        'action': pred.columns[ama_changes[mask].values],\n",
    "        'start_frame': ama_changes.index[mask],\n",
    "        'stop_frame': ama_changes.index[1:][mask[:-1]]\n",
    "    })\n",
    "    \n",
    "    stop_video_id = meta_changes['video_id'][1:][mask[:-1]].values\n",
    "    stop_agent_id = meta_changes['agent_id'][1:][mask[:-1]].values\n",
    "    stop_target_id = meta_changes['target_id'][1:][mask[:-1]].values\n",
    "    \n",
    "    for i in range(len(submission_part)):\n",
    "        video_id = submission_part.video_id.iloc[i]\n",
    "        agent_id = submission_part.agent_id.iloc[i]\n",
    "        target_id = submission_part.target_id.iloc[i]\n",
    "        \n",
    "        if i >= len(stop_video_id) or stop_video_id[i] != video_id or \\\n",
    "           stop_agent_id[i] != agent_id or stop_target_id[i] != target_id:\n",
    "            new_stop_frame = meta.query(\"(video_id == @video_id)\").video_frame.max() + 1\n",
    "            submission_part.iat[i, submission_part.columns.get_loc('stop_frame')] = new_stop_frame\n",
    "    \n",
    "    assert (submission_part.stop_frame > submission_part.start_frame).all(), 'stop <= start'\n",
    "    \n",
    "    performance_metrics['predictions_made'] += len(submission_part)\n",
    "    if verbose: \n",
    "        print(f'  Actions found: {len(submission_part)}')\n",
    "    \n",
    "    return submission_part\n",
    "\n",
    "def cross_validate_classifier(binary_classifier, X, label, meta):\n",
    "    global f1_list, submission_list\n",
    "    \n",
    "    oof = pd.DataFrame(index=meta.video_frame)\n",
    "    \n",
    "    print(f\"\\n  🔄 Cross-validating {len(label.columns)} actions...\")\n",
    "    \n",
    "    for action in label.columns:\n",
    "        action_mask = ~label[action].isna().values\n",
    "        X_action = X[action_mask]\n",
    "        y_action = label[action][action_mask].values.astype(int)\n",
    "        p = y_action.mean()\n",
    "        baseline_score = p / (1 + p) if p > 0 else 0\n",
    "        groups_action = meta.video_id[action_mask]\n",
    "        \n",
    "        performance_metrics['actions_processed'] += 1\n",
    "        \n",
    "        if len(np.unique(groups_action)) < 5:\n",
    "            continue\n",
    "        \n",
    "        if not (y_action == 0).all():\n",
    "            with warnings.catch_warnings():\n",
    "                warnings.filterwarnings('ignore', category=RuntimeWarning)\n",
    "                oof_action = cross_val_predict(binary_classifier, X_action, y_action, \n",
    "                                             groups=groups_action, cv=GroupKFold(), \n",
    "                                             method='predict_proba')\n",
    "            oof_action = oof_action[:, 1]\n",
    "        else:\n",
    "            oof_action = np.zeros(len(y_action))\n",
    "        \n",
    "        f1 = f1_score(y_action, (oof_action >= threshold), zero_division=0)\n",
    "        ch = '↑' if f1 > baseline_score else '=' if f1 == baseline_score else '↓'\n",
    "        print(f\"    • F1: {f1:.3f} {ch} (baseline: {baseline_score:.3f}) - {action}\")\n",
    "        f1_list.append((body_parts_tracked_str, action, f1))\n",
    "        \n",
    "        oof_column = np.zeros(len(label))\n",
    "        oof_column[action_mask] = oof_action\n",
    "        oof[action] = oof_column\n",
    "    \n",
    "    submission_part = predict_multiclass(oof, meta)\n",
    "    submission_list.append(submission_part)\n",
    "\n",
    "def submit(body_parts_tracked_str, switch_tr, binary_classifier, X_tr, label, meta):\n",
    "    global submission_list\n",
    "    \n",
    "    model_list = []\n",
    "    \n",
    "    print(f\"\\n  🎯 Training models for {len(label.columns)} actions...\")\n",
    "    \n",
    "    for action in label.columns:\n",
    "        action_mask = ~label[action].isna().values\n",
    "        y_action = label[action][action_mask].values.astype(int)\n",
    "        \n",
    "        performance_metrics['actions_processed'] += 1\n",
    "        \n",
    "        if not (y_action == 0).all():\n",
    "            model = clone(binary_classifier)\n",
    "            model.fit(X_tr[action_mask], y_action)\n",
    "            assert len(model.classes_) == 2\n",
    "            model_list.append((action, model))\n",
    "            performance_metrics['models_trained'] += 1\n",
    "    \n",
    "    body_parts_tracked = json.loads(body_parts_tracked_str)\n",
    "    test_subset = test[test.body_parts_tracked == body_parts_tracked_str]\n",
    "    \n",
    "    if len(test_subset) == 0:\n",
    "        if verbose:\n",
    "            print(f\"  No test videos for this configuration\")\n",
    "        return\n",
    "    \n",
    "    generator = generate_mouse_data(test_subset, 'test',\n",
    "                                  generate_single=(switch_tr == 'single'), \n",
    "                                  generate_pair=(switch_tr == 'pair'))\n",
    "    \n",
    "    if verbose: \n",
    "        print(f\"  📹 Processing {len(test_subset)} test videos\")\n",
    "    \n",
    "    for switch_te, data_te, meta_te, actions_te in generator:\n",
    "        assert switch_te == switch_tr\n",
    "        try:\n",
    "            if switch_te == 'single':\n",
    "                X_te = transform_single(data_te, body_parts_tracked)\n",
    "            else:\n",
    "                X_te = transform_pair(data_te, body_parts_tracked)\n",
    "            \n",
    "            if X_te.empty or len(X_te.columns) == 0:\n",
    "                if verbose:\n",
    "                    print(\"  Skipping due to transform failure\")\n",
    "                continue\n",
    "            \n",
    "            del data_te\n",
    "            \n",
    "            pred = pd.DataFrame(index=meta_te.video_frame)\n",
    "            for action, model in model_list:\n",
    "                if action in actions_te:\n",
    "                    try:\n",
    "                        pred[action] = model.predict_proba(X_te)[:, 1]\n",
    "                    except:\n",
    "                        pass\n",
    "            \n",
    "            del X_te\n",
    "            \n",
    "            if pred.shape[1] != 0:\n",
    "                submission_part = predict_multiclass(pred, meta_te)\n",
    "                submission_list.append(submission_part)\n",
    "                    \n",
    "        except Exception as e:\n",
    "            if verbose: \n",
    "                print(f'  Error during prediction: {e}')\n",
    "            if 'data_te' in locals():\n",
    "                del data_te\n",
    "\n",
    "def robustify(submission, dataset, traintest, traintest_directory=None):\n",
    "    if traintest_directory is None:\n",
    "        traintest_directory = f\"data/_provided/{traintest}_tracking\"\n",
    "    \n",
    "    if submission is None or len(submission) == 0:\n",
    "        submission = pd.DataFrame(columns=['video_id', 'agent_id', 'target_id', \n",
    "                                          'action', 'start_frame', 'stop_frame'])\n",
    "    \n",
    "    if len(submission) > 0 and 'start_frame' in submission.columns and 'stop_frame' in submission.columns:\n",
    "        old_len = len(submission)\n",
    "        submission = submission[submission.start_frame < submission.stop_frame]\n",
    "        if len(submission) != old_len:\n",
    "            print(f\"  🧹 Cleaned: Dropped {old_len - len(submission)} invalid frames\")\n",
    "    \n",
    "    if len(submission) > 0:\n",
    "        group_list = []\n",
    "        for _, group in submission.groupby(['video_id', 'agent_id', 'target_id']):\n",
    "            group = group.sort_values('start_frame')\n",
    "            mask = np.ones(len(group), dtype=bool)\n",
    "            last_stop_frame = 0\n",
    "            for i, (_, row) in enumerate(group.iterrows()):\n",
    "                if row['start_frame'] < last_stop_frame:\n",
    "                    mask[i] = False\n",
    "                else:\n",
    "                    last_stop_frame = row['stop_frame']\n",
    "            group_list.append(group[mask])\n",
    "        \n",
    "        if group_list:\n",
    "            submission = pd.concat(group_list)\n",
    "    \n",
    "    s_list = []\n",
    "    videos_filled = 0\n",
    "    for idx, row in dataset.iterrows():\n",
    "        lab_id = row['lab_id']\n",
    "        if lab_id.startswith('MABe22'):\n",
    "            continue\n",
    "        video_id = row['video_id']\n",
    "        \n",
    "        if len(submission) == 0 or not (submission.video_id == video_id).any():\n",
    "            videos_filled += 1\n",
    "            \n",
    "            try:\n",
    "                path = f\"{traintest_directory}/{lab_id}/{video_id}.parquet\"\n",
    "                vid = pd.read_parquet(path)\n",
    "                \n",
    "                # Handle NaN in behaviors_labeled\n",
    "                if pd.isna(row['behaviors_labeled']):\n",
    "                    s_list.append((video_id, 'mouse1', 'self', 'rear', 0, 50))\n",
    "                    continue\n",
    "                    \n",
    "                vid_behaviors = eval(row['behaviors_labeled'])\n",
    "                vid_behaviors = sorted(list({b.replace(\"'\", \"\") for b in vid_behaviors}))\n",
    "                vid_behaviors = [b.split(',') for b in vid_behaviors]\n",
    "                vid_behaviors = pd.DataFrame(vid_behaviors, columns=['agent', 'target', 'action'])\n",
    "                \n",
    "                start_frame = int(vid.video_frame.min())\n",
    "                stop_frame = int(vid.video_frame.max() + 1)\n",
    "                \n",
    "                for (agent, target), actions in vid_behaviors.groupby(['agent', 'target']):\n",
    "                    batch_length = int(np.ceil((stop_frame - start_frame) / len(actions)))\n",
    "                    for i, (_, action_row) in enumerate(actions.iterrows()):\n",
    "                        batch_start = start_frame + i * batch_length\n",
    "                        batch_stop = min(batch_start + batch_length, stop_frame)\n",
    "                        s_list.append((video_id, agent, target, action_row['action'], \n",
    "                                     batch_start, batch_stop))\n",
    "            except:\n",
    "                s_list.append((video_id, 'mouse1', 'self', 'rear', 0, 50))\n",
    "    \n",
    "    if len(s_list) > 0:\n",
    "        new_df = pd.DataFrame(s_list, columns=['video_id', 'agent_id', 'target_id', \n",
    "                                               'action', 'start_frame', 'stop_frame'])\n",
    "        if len(submission) > 0:\n",
    "            submission = pd.concat([submission, new_df], ignore_index=True)\n",
    "        else:\n",
    "            submission = new_df\n",
    "        print(f\"  📝 Filled {videos_filled} empty videos with default predictions\")\n",
    "    \n",
    "    submission = submission.reset_index(drop=True)\n",
    "    return submission"
   ]
  },
  {
   "cell_type": "code",
   "execution_count": 9,
   "metadata": {},
   "outputs": [
    {
     "name": "stdout",
     "output_type": "stream",
     "text": [
      "\n",
      "================================================================================\n",
      "                    🚀 STARTING MAIN PROCESSING PIPELINE 🚀\n",
      "================================================================================\n",
      "\n",
      "📋 Total configurations to process: 9\n",
      "------------------------------------------------------------\n"
     ]
    }
   ],
   "source": [
    "# Main processing loop\n",
    "print(\"\\n\" + \"=\"*80)\n",
    "print(\" \"*20 + \"🚀 STARTING MAIN PROCESSING PIPELINE 🚀\")\n",
    "print(\"=\"*80)\n",
    "\n",
    "f1_list = []\n",
    "submission_list = []\n",
    "predictions_per_config = []\n",
    "config_times = []\n",
    "\n",
    "total_configs = len(body_parts_tracked_list) - 1\n",
    "print(f\"\\n📋 Total configurations to process: {total_configs}\")\n",
    "print(\"-\" * 60)"
   ]
  },
  {
   "cell_type": "code",
   "execution_count": 10,
   "metadata": {},
   "outputs": [
    {
     "name": "stdout",
     "output_type": "stream",
     "text": [
      "\n",
      "============================================================\n",
      "🔧 Configuration 1/9\n",
      "============================================================\n",
      "📍 Processing videos with 18 body parts\n",
      "   Body parts: body_center, ear_left, ear_right, headpiece_bottombackleft, headpiece_bottombackright...\n",
      "  📊 Found 7 training videos\n",
      "  📥 Collecting training data...\n",
      "\n",
      "  🐭 Processing 22 single mouse batches\n",
      "  ✅ Features shape: (544859, 157)\n",
      "\n",
      "  🎯 Training models for 1 actions...\n",
      "  📹 Processing 1 test videos\n",
      "Video 438887472: missing values, 1089866 frames\n",
      "  Processing single mouse 1\n",
      "  Actions found: 93\n",
      "  Processing single mouse 2\n",
      "  Actions found: 656\n",
      "  Processing single mouse 3\n",
      "  Actions found: 509\n",
      "  Processing single mouse 4\n",
      "    Transform error: 'neck'\n",
      "  Skipping due to transform failure\n",
      "\n",
      "📈 Creating feature analysis for single mouse...\n",
      "    ⚠️ No numeric features to visualize\n",
      "\n",
      "  🐭🐭 Processing 72 mouse pair batches\n",
      "  ✅ Features shape: (1744248, 52)\n",
      "\n",
      "  🎯 Training models for 6 actions...\n",
      "  📹 Processing 1 test videos\n",
      "Video 438887472: missing values, 1089866 frames\n",
      "  Processing pair 1 -> 2\n",
      "  Actions found: 5\n",
      "  Processing pair 1 -> 3\n",
      "  Actions found: 7\n",
      "  Processing pair 1 -> 4\n",
      "    Transform error: 'neck'\n",
      "  Skipping due to transform failure\n",
      "  Processing pair 2 -> 1\n",
      "  Actions found: 28\n",
      "  Processing pair 2 -> 3\n",
      "  Actions found: 19\n",
      "  Processing pair 2 -> 4\n",
      "    Transform error: 'neck'\n",
      "  Skipping due to transform failure\n",
      "  Processing pair 3 -> 1\n",
      "  Actions found: 26\n",
      "  Processing pair 3 -> 2\n",
      "  Actions found: 22\n",
      "  Processing pair 3 -> 4\n",
      "    Transform error: 'neck'\n",
      "  Skipping due to transform failure\n",
      "  Processing pair 4 -> 1\n",
      "    Transform error: 'neck'\n",
      "  Skipping due to transform failure\n",
      "  Processing pair 4 -> 2\n",
      "    Transform error: 'neck'\n",
      "  Skipping due to transform failure\n",
      "  Processing pair 4 -> 3\n",
      "    Transform error: 'neck'\n",
      "  Skipping due to transform failure\n",
      "\n",
      "📈 Creating feature analysis for pair mouse...\n",
      "    ⚠️ No numeric features to visualize\n",
      "\n",
      "  ⏱️ Configuration processing time: 52.19 seconds\n",
      "\n",
      "\n",
      "============================================================\n",
      "🔧 Configuration 2/9\n",
      "============================================================\n",
      "📍 Processing videos with 14 body parts\n",
      "   Body parts: body_center, ear_left, ear_right, hip_left, hip_right...\n",
      "  📊 Found 21 training videos\n",
      "  📥 Collecting training data...\n",
      "\n",
      "  🐭 Processing 32 single mouse batches\n",
      "  ✅ Features shape: (478728, 95)\n",
      "\n",
      "  🎯 Training models for 3 actions...\n",
      "  No test videos for this configuration\n",
      "\n",
      "📈 Creating feature analysis for single mouse...\n",
      "    ⚠️ No numeric features to visualize\n",
      "\n",
      "  🐭🐭 Processing 42 mouse pair batches\n",
      "  ✅ Features shape: (628714, 147)\n",
      "\n",
      "  🎯 Training models for 5 actions...\n",
      "  No test videos for this configuration\n",
      "\n",
      "📈 Creating feature analysis for pair mouse...\n",
      "    ⚠️ No numeric features to visualize\n",
      "\n",
      "  ⏱️ Configuration processing time: 17.85 seconds\n",
      "\n",
      "\n",
      "============================================================\n",
      "🔧 Configuration 3/9\n",
      "============================================================\n",
      "📍 Processing videos with 10 body parts\n",
      "   Body parts: body_center, ear_left, ear_right, lateral_left, lateral_right...\n",
      "  📊 Found 10 training videos\n",
      "  📥 Collecting training data...\n",
      "\n",
      "  🐭 Processing 37 single mouse batches\n",
      "  ✅ Features shape: (1942233, 49)\n",
      "\n",
      "  🎯 Training models for 1 actions...\n",
      "  No test videos for this configuration\n",
      "\n",
      "  🐭🐭 Processing 114 mouse pair batches\n",
      "  ✅ Features shape: (5881764, 52)\n",
      "\n",
      "  🎯 Training models for 6 actions...\n",
      "  No test videos for this configuration\n",
      "\n",
      "  ⏱️ Configuration processing time: 86.72 seconds\n",
      "\n",
      "\n",
      "============================================================\n",
      "🔧 Configuration 4/9\n",
      "============================================================\n",
      "📍 Processing videos with 8 body parts\n",
      "   Body parts: body_center, ear_left, ear_right, lateral_left, lateral_right...\n",
      "  📊 Found 42 training videos\n",
      "  📥 Collecting training data...\n",
      "\n",
      "  🐭🐭 Processing 82 mouse pair batches\n",
      "  ✅ Features shape: (2534176, 39)\n",
      "\n",
      "  🎯 Training models for 6 actions...\n",
      "  No test videos for this configuration\n",
      "\n",
      "  ⏱️ Configuration processing time: 18.80 seconds\n",
      "\n",
      "\n",
      "============================================================\n",
      "🔧 Configuration 5/9\n",
      "============================================================\n",
      "📍 Processing videos with 7 body parts\n",
      "   Body parts: body_center, ear_left, ear_right, lateral_left, lateral_right...\n",
      "  📊 Found 90 training videos\n",
      "  📥 Collecting training data...\n",
      "\n",
      "  🐭🐭 Processing 180 mouse pair batches\n",
      "  ✅ Features shape: (2054144, 28)\n",
      "\n",
      "  🎯 Training models for 7 actions...\n",
      "  No test videos for this configuration\n",
      "\n",
      "  ⏱️ Configuration processing time: 10.14 seconds\n",
      "\n",
      "\n",
      "============================================================\n",
      "🔧 Configuration 6/9\n",
      "============================================================\n",
      "📍 Processing videos with 5 body parts\n",
      "   Body parts: body_center, ear_left, ear_right, nose, tail_base\n",
      "  📊 Found 19 training videos\n",
      "  📥 Collecting training data...\n",
      "\n",
      "  🐭 Processing 22 single mouse batches\n",
      "  ✅ Features shape: (708496, 14)\n",
      "\n",
      "  🎯 Training models for 6 actions...\n",
      "  No test videos for this configuration\n",
      "\n",
      "  🐭🐭 Processing 38 mouse pair batches\n",
      "  ✅ Features shape: (10212910, 28)\n",
      "\n",
      "  🎯 Training models for 12 actions...\n",
      "  No test videos for this configuration\n",
      "\n",
      "  ⏱️ Configuration processing time: 44.24 seconds\n",
      "\n",
      "\n",
      "============================================================\n",
      "🔧 Configuration 7/9\n",
      "============================================================\n",
      "📍 Processing videos with 4 body parts\n",
      "   Body parts: ear_left, ear_right, head, tail_base\n",
      "  📊 Found 17 training videos\n",
      "  📥 Collecting training data...\n",
      "\n",
      "  🐭 Processing 34 single mouse batches\n",
      "  ✅ Features shape: (899134, 10)\n",
      "\n",
      "  🎯 Training models for 6 actions...\n",
      "  No test videos for this configuration\n",
      "\n",
      "  🐭🐭 Processing 34 mouse pair batches\n",
      "  ✅ Features shape: (899134, 19)\n",
      "\n",
      "  🎯 Training models for 8 actions...\n",
      "  No test videos for this configuration\n",
      "\n",
      "  ⏱️ Configuration processing time: 5.82 seconds\n",
      "\n",
      "\n",
      "============================================================\n",
      "🔧 Configuration 8/9\n",
      "============================================================\n",
      "📍 Processing videos with 7 body parts\n",
      "   Body parts: ear_left, ear_right, hip_left, hip_right, neck...\n",
      "  📊 Found 634 training videos\n",
      "  📥 Collecting training data...\n",
      "\n",
      "  🐭 Processing 115 single mouse batches\n",
      "  ✅ Features shape: (3020371, 25)\n",
      "\n",
      "  🎯 Training models for 4 actions...\n",
      "  No test videos for this configuration\n",
      "\n",
      "  🐭🐭 Processing 1268 mouse pair batches\n",
      "  ✅ Features shape: (23086736, 28)\n",
      "\n",
      "  🎯 Training models for 17 actions...\n",
      "  No test videos for this configuration\n",
      "\n",
      "  ⏱️ Configuration processing time: 133.90 seconds\n",
      "\n",
      "\n",
      "============================================================\n",
      "🔧 Configuration 9/9\n",
      "============================================================\n",
      "📍 Processing videos with 5 body parts\n",
      "   Body parts: ear_left, ear_right, nose, tail_base, tail_tip\n",
      "  📊 Found 24 training videos\n",
      "  📥 Collecting training data...\n",
      "\n",
      "  🐭 Processing 9 single mouse batches\n",
      "  ✅ Features shape: (329777, 14)\n",
      "\n",
      "  🎯 Training models for 2 actions...\n",
      "  No test videos for this configuration\n",
      "\n",
      "  🐭🐭 Processing 48 mouse pair batches\n",
      "  ✅ Features shape: (1774618, 28)\n",
      "\n",
      "  🎯 Training models for 5 actions...\n",
      "  No test videos for this configuration\n",
      "\n",
      "  ⏱️ Configuration processing time: 7.98 seconds\n",
      "\n"
     ]
    }
   ],
   "source": [
    "for section in range(1, len(body_parts_tracked_list)):\n",
    "    body_parts_tracked_str = body_parts_tracked_list[section]\n",
    "    config_start_time = time.time()\n",
    "    \n",
    "    print(f\"\\n{'='*60}\")\n",
    "    print(f\"🔧 Configuration {section}/{total_configs}\")\n",
    "    print(f\"{'='*60}\")\n",
    "    \n",
    "    try:\n",
    "        body_parts_tracked = json.loads(body_parts_tracked_str)\n",
    "        print(f\"📍 Processing videos with {len(body_parts_tracked)} body parts\")\n",
    "        print(f\"   Body parts: {', '.join(body_parts_tracked[:5])}{'...' if len(body_parts_tracked) > 5 else ''}\")\n",
    "        \n",
    "        train_subset = train[train.body_parts_tracked == body_parts_tracked_str]\n",
    "        \n",
    "        if len(train_subset) == 0:\n",
    "            print(\"  ⚠️ No training data for this configuration\")\n",
    "            continue\n",
    "        \n",
    "        print(f\"  📊 Found {len(train_subset)} training videos\")\n",
    "        performance_metrics['configurations_processed'] += 1\n",
    "        \n",
    "        single_mouse_list = []\n",
    "        single_mouse_label_list = []\n",
    "        single_mouse_meta_list = []\n",
    "        mouse_pair_list = []\n",
    "        mouse_pair_label_list = []\n",
    "        mouse_pair_meta_list = []\n",
    "        \n",
    "        print(\"  📥 Collecting training data...\")\n",
    "        for switch, data, meta, label in generate_mouse_data(train_subset, 'train'):\n",
    "            if switch == 'single':\n",
    "                single_mouse_list.append(data)\n",
    "                single_mouse_meta_list.append(meta)\n",
    "                single_mouse_label_list.append(label)\n",
    "            else:\n",
    "                mouse_pair_list.append(data)\n",
    "                mouse_pair_meta_list.append(meta)\n",
    "                mouse_pair_label_list.append(label)\n",
    "        \n",
    "        binary_classifier = make_pipeline(\n",
    "            SimpleImputer(),\n",
    "            StandardScaler(),\n",
    "            TrainOnSubsetClassifier(KNeighborsClassifier(n_neighbors=11), 20000)\n",
    "        )\n",
    "        \n",
    "        config_predictions = performance_metrics['predictions_made']\n",
    "        \n",
    "        if len(single_mouse_list) > 0:\n",
    "            try:\n",
    "                print(f\"\\n  🐭 Processing {len(single_mouse_list)} single mouse batches\")\n",
    "                performance_metrics['single_mouse_batches'] += len(single_mouse_list)\n",
    "                \n",
    "                single_mouse = pd.concat(single_mouse_list)\n",
    "                single_mouse_label = pd.concat(single_mouse_label_list)\n",
    "                single_mouse_meta = pd.concat(single_mouse_meta_list)\n",
    "                \n",
    "                del single_mouse_list, single_mouse_label_list, single_mouse_meta_list\n",
    "                \n",
    "                X_tr = transform_single(single_mouse, body_parts_tracked)\n",
    "                \n",
    "                if not X_tr.empty and len(X_tr.columns) > 0:\n",
    "                    del single_mouse\n",
    "                    print(f\"  ✅ Features shape: {X_tr.shape}\")\n",
    "                    \n",
    "                    if validate_or_submit == 'validate':\n",
    "                        cross_validate_classifier(binary_classifier, X_tr, single_mouse_label, \n",
    "                                                single_mouse_meta)\n",
    "                    else:\n",
    "                        submit(body_parts_tracked_str, 'single', binary_classifier, X_tr, \n",
    "                              single_mouse_label, single_mouse_meta)\n",
    "                    \n",
    "                    if create_visualizations and section <= 2:\n",
    "                        try:\n",
    "                            create_feature_analysis_plots(X_tr, 'single', section)\n",
    "                        except Exception as e:\n",
    "                            print(f\"  ⚠️ Feature analysis plot failed: {e}\")\n",
    "                    \n",
    "                    del X_tr\n",
    "                else:\n",
    "                    print(\"  ⚠️ Transform failed for single mouse\")\n",
    "                    del single_mouse\n",
    "                    \n",
    "                gc.collect()\n",
    "                \n",
    "            except Exception as e:\n",
    "                print(f\"  ❌ Exception in single mouse: {e}\")\n",
    "        \n",
    "        if len(mouse_pair_list) > 0:\n",
    "            try:\n",
    "                print(f\"\\n  🐭🐭 Processing {len(mouse_pair_list)} mouse pair batches\")\n",
    "                performance_metrics['pair_batches'] += len(mouse_pair_list)\n",
    "                \n",
    "                mouse_pair = pd.concat(mouse_pair_list)\n",
    "                mouse_pair_label = pd.concat(mouse_pair_label_list)\n",
    "                mouse_pair_meta = pd.concat(mouse_pair_meta_list)\n",
    "                \n",
    "                del mouse_pair_list, mouse_pair_label_list, mouse_pair_meta_list\n",
    "                \n",
    "                X_tr = transform_pair(mouse_pair, body_parts_tracked)\n",
    "                \n",
    "                if not X_tr.empty and len(X_tr.columns) > 0:\n",
    "                    del mouse_pair\n",
    "                    print(f\"  ✅ Features shape: {X_tr.shape}\")\n",
    "                    \n",
    "                    if validate_or_submit == 'validate':\n",
    "                        cross_validate_classifier(binary_classifier, X_tr, mouse_pair_label, \n",
    "                                                mouse_pair_meta)\n",
    "                    else:\n",
    "                        submit(body_parts_tracked_str, 'pair', binary_classifier, X_tr, \n",
    "                              mouse_pair_label, mouse_pair_meta)\n",
    "                    \n",
    "                    if create_visualizations and section <= 2:\n",
    "                        try:\n",
    "                            create_feature_analysis_plots(X_tr, 'pair', section)\n",
    "                        except Exception as e:\n",
    "                            print(f\"  ⚠️ Feature analysis plot failed: {e}\")\n",
    "                    \n",
    "                    del X_tr\n",
    "                else:\n",
    "                    print(\"  ⚠️ Transform failed for mouse pair\")\n",
    "                    del mouse_pair\n",
    "                    \n",
    "                gc.collect()\n",
    "                \n",
    "            except Exception as e:\n",
    "                print(f\"  ❌ Exception in mouse pair: {e}\")\n",
    "        \n",
    "        config_time = time.time() - config_start_time\n",
    "        config_times.append(config_time)\n",
    "        predictions_per_config.append(performance_metrics['predictions_made'] - config_predictions)\n",
    "        \n",
    "        print(f\"\\n  ⏱️ Configuration processing time: {config_time:.2f} seconds\")\n",
    "            \n",
    "    except Exception as e:\n",
    "        print(f\"  ❌ Exception in section {section}: {e}\")\n",
    "        continue\n",
    "    \n",
    "    print(\"\")"
   ]
  },
  {
   "cell_type": "code",
   "execution_count": 11,
   "metadata": {
    "trusted": true
   },
   "outputs": [
    {
     "name": "stdout",
     "output_type": "stream",
     "text": [
      "\n",
      "================================================================================\n",
      "📋 FINALIZING SUBMISSION\n",
      "================================================================================\n",
      "\n",
      "📊 Generated 1365 predictions from models\n",
      "\n",
      "✅ Final submission: 1365 rows\n",
      "✅ Saved to submission.csv\n",
      "\n",
      "📊 Submission Statistics:\n",
      "   • Unique actions: 6\n",
      "   • Unique videos: 1\n",
      "   • Top 5 predicted actions:\n",
      "      1. rear: 1258 (92.2%)\n",
      "      2. avoid: 40 (2.9%)\n",
      "      3. approach: 33 (2.4%)\n",
      "      4. chase: 19 (1.4%)\n",
      "      5. attack: 13 (1.0%)\n",
      "\n",
      "First 10 rows of submission:\n",
      "         video_id agent_id target_id action  start_frame  stop_frame\n",
      "row_id                                                              \n",
      "0       438887472   mouse1    mouse2  avoid          824         825\n",
      "1       438887472   mouse1    mouse2  avoid          838         846\n",
      "2       438887472   mouse1    mouse2  chase         5530        5533\n",
      "3       438887472   mouse1    mouse2  chase         5537        5539\n",
      "4       438887472   mouse1    mouse2  chase        17969       17970\n",
      "5       438887472   mouse1    mouse3  avoid         2293        2295\n",
      "6       438887472   mouse1    mouse3  chase         9290        9291\n",
      "7       438887472   mouse1    mouse3  chase        12964       12965\n",
      "8       438887472   mouse1    mouse3  chase        12974       12975\n",
      "9       438887472   mouse1    mouse3  chase        15007       15009\n",
      "\n",
      "================================================================================\n",
      "📊 PERFORMANCE SUMMARY\n",
      "================================================================================\n",
      "⏱️ Total execution time: 379.62 seconds (6.3 minutes)\n",
      "🔧 Configurations processed: 9\n",
      "🐭 Single mouse batches: 271\n",
      "🐭🐭 Pair batches: 1878\n",
      "📐 Features extracted: 1,568\n",
      "🎯 Predictions made: 1,365\n",
      "🤖 Models trained: 88\n",
      "🎬 Actions processed: 95\n",
      "\n",
      "⏱️ Processing Time Statistics:\n",
      "   • Mean time per config: 41.96 seconds\n",
      "   • Median time per config: 18.80 seconds\n",
      "   • Total processing time: 377.65 seconds\n",
      "   • Fastest config: 5.82 seconds\n",
      "   • Slowest config: 133.90 seconds\n",
      "\n",
      "================================================================================\n",
      "                         ✨ ANALYSIS COMPLETE! ✨\n",
      "================================================================================\n"
     ]
    }
   ],
   "source": [
    "if create_visualizations and f1_list:\n",
    "    try:\n",
    "        create_performance_tracking_plot(f1_list, predictions_per_config)\n",
    "    except Exception as e:\n",
    "        print(f\"❌ Performance tracking plot failed: {e}\")\n",
    "\n",
    "print(\"\\n\" + \"=\"*80)\n",
    "print(\"📋 FINALIZING SUBMISSION\")\n",
    "print(\"=\"*80)\n",
    "\n",
    "if validate_or_submit == 'validate' and submission_list:\n",
    "    submission = pd.concat(submission_list) if submission_list else pd.DataFrame()\n",
    "    submission_robust = robustify(submission, train, 'train')\n",
    "    if 'solution' in locals() and len(solution) > 0 and len(submission_robust) > 0:\n",
    "        print(f\"\\n✅ OOF score: {score(solution, submission_robust, ''):.4f}\")\n",
    "    \n",
    "    if f1_list:\n",
    "        f1_df = pd.DataFrame(f1_list, columns=['body_parts', 'action', 'f1_score'])\n",
    "        print(f\"✅ Average binary F1: {f1_df['f1_score'].mean():.4f}\")\n",
    "        print(f\"✅ Median binary F1: {f1_df['f1_score'].median():.4f}\")\n",
    "        print(f\"✅ Best F1: {f1_df['f1_score'].max():.4f}\")\n",
    "        print(f\"✅ Worst F1: {f1_df['f1_score'].min():.4f}\")\n",
    "\n",
    "elif validate_or_submit == 'submit':\n",
    "    if submission_list:\n",
    "        submission = pd.concat(submission_list)\n",
    "        print(f\"\\n📊 Generated {len(submission)} predictions from models\")\n",
    "    else:\n",
    "        submission = pd.DataFrame()\n",
    "        print(\"\\n⚠️ No predictions generated from models\")\n",
    "    \n",
    "    submission_robust = robustify(submission, test, 'test')\n",
    "    submission_robust.index.name = 'row_id'\n",
    "    submission_robust.to_csv('submission.csv')\n",
    "    \n",
    "    print(f\"\\n✅ Final submission: {len(submission_robust)} rows\")\n",
    "    print(\"✅ Saved to submission.csv\")\n",
    "    \n",
    "    print(\"\\n📊 Submission Statistics:\")\n",
    "    if len(submission_robust) > 0:\n",
    "        action_counts = submission_robust['action'].value_counts()\n",
    "        print(f\"   • Unique actions: {submission_robust['action'].nunique()}\")\n",
    "        print(f\"   • Unique videos: {submission_robust['video_id'].nunique()}\")\n",
    "        print(f\"   • Top 5 predicted actions:\")\n",
    "        for i, (action, count) in enumerate(action_counts.head(5).items(), 1):\n",
    "            print(f\"      {i}. {action}: {count} ({100*count/len(submission_robust):.1f}%)\")\n",
    "    \n",
    "    print(\"\\nFirst 10 rows of submission:\")\n",
    "    print(submission_robust.head(10))\n",
    "\n",
    "elapsed_time = time.time() - start_time\n",
    "print(\"\\n\" + \"=\"*80)\n",
    "print(\"📊 PERFORMANCE SUMMARY\")\n",
    "print(\"=\"*80)\n",
    "print(f\"⏱️ Total execution time: {elapsed_time:.2f} seconds ({elapsed_time/60:.1f} minutes)\")\n",
    "print(f\"🔧 Configurations processed: {performance_metrics['configurations_processed']}\")\n",
    "print(f\"🐭 Single mouse batches: {performance_metrics['single_mouse_batches']}\")\n",
    "print(f\"🐭🐭 Pair batches: {performance_metrics['pair_batches']}\")\n",
    "print(f\"📐 Features extracted: {performance_metrics['features_extracted']:,}\")\n",
    "print(f\"🎯 Predictions made: {performance_metrics['predictions_made']:,}\")\n",
    "print(f\"🤖 Models trained: {performance_metrics['models_trained']}\")\n",
    "print(f\"🎬 Actions processed: {performance_metrics['actions_processed']}\")\n",
    "\n",
    "if config_times:\n",
    "    print(f\"\\n⏱️ Processing Time Statistics:\")\n",
    "    print(f\"   • Mean time per config: {np.mean(config_times):.2f} seconds\")\n",
    "    print(f\"   • Median time per config: {np.median(config_times):.2f} seconds\")\n",
    "    print(f\"   • Total processing time: {sum(config_times):.2f} seconds\")\n",
    "    print(f\"   • Fastest config: {min(config_times):.2f} seconds\")\n",
    "    print(f\"   • Slowest config: {max(config_times):.2f} seconds\")\n",
    "\n",
    "print(\"\\n\" + \"=\"*80)\n",
    "print(\" \"*25 + \"✨ ANALYSIS COMPLETE! ✨\")\n",
    "print(\"=\"*80)"
   ]
  }
 ],
 "metadata": {
  "kaggle": {
   "accelerator": "none",
   "dataSources": [
    {
     "databundleVersionId": 13719397,
     "sourceId": 59156,
     "sourceType": "competition"
    }
   ],
   "dockerImageVersionId": 31089,
   "isGpuEnabled": false,
   "isInternetEnabled": false,
   "language": "python",
   "sourceType": "notebook"
  },
  "kernelspec": {
   "display_name": ".venv",
   "language": "python",
   "name": "python3"
  },
  "language_info": {
   "codemirror_mode": {
    "name": "ipython",
    "version": 3
   },
   "file_extension": ".py",
   "mimetype": "text/x-python",
   "name": "python",
   "nbconvert_exporter": "python",
   "pygments_lexer": "ipython3",
   "version": "3.13.5"
  }
 },
 "nbformat": 4,
 "nbformat_minor": 4
}
